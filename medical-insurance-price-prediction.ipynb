{
 "cells": [
  {
   "cell_type": "markdown",
   "id": "71ca8669",
   "metadata": {
    "_cell_guid": "b1076dfc-b9ad-4769-8c92-a6c4dae69d19",
    "_uuid": "8f2839f25d086af736a60e9eeb907d3b93b6e0e5",
    "papermill": {
     "duration": 0.00451,
     "end_time": "2024-01-26T16:59:41.687022",
     "exception": false,
     "start_time": "2024-01-26T16:59:41.682512",
     "status": "completed"
    },
    "tags": []
   },
   "source": [
    "# **Objectives**\n",
    "in this project, you will:\n",
    "* load the data as a pandas dataframe\n",
    "* cleann the data, taking care of the blank entries\n",
    "* run exploratory data analysis(EDA) and identify the attributes that most affect the charges\n",
    "* develop single variable and multi-variable Linear Regression Models for predictinf the charges\n",
    "* Use Ridge regression to refine the performance of Linear regression models"
   ]
  },
  {
   "cell_type": "code",
   "execution_count": 1,
   "id": "8c69f6b9",
   "metadata": {
    "execution": {
     "iopub.execute_input": "2024-01-26T16:59:41.697016Z",
     "iopub.status.busy": "2024-01-26T16:59:41.696657Z",
     "iopub.status.idle": "2024-01-26T16:59:43.602999Z",
     "shell.execute_reply": "2024-01-26T16:59:43.602103Z"
    },
    "papermill": {
     "duration": 1.914124,
     "end_time": "2024-01-26T16:59:43.605415",
     "exception": false,
     "start_time": "2024-01-26T16:59:41.691291",
     "status": "completed"
    },
    "tags": []
   },
   "outputs": [],
   "source": [
    "#import the libraries\n",
    "import pandas as pd\n",
    "import numpy as np\n",
    "import matplotlib.pyplot as plt\n",
    "import seaborn as sns\n",
    "from sklearn.pipeline import Pipeline\n",
    "from sklearn.compose import ColumnTransformer \n",
    "from sklearn.preprocessing import StandardScaler, PolynomialFeatures, OneHotEncoder\n",
    "from sklearn.linear_model import LinearRegression, Ridge\n",
    "from sklearn.metrics import mean_squared_error, r2_score\n",
    "from sklearn.model_selection import cross_val_score, train_test_split"
   ]
  },
  {
   "cell_type": "code",
   "execution_count": 2,
   "id": "0f14e782",
   "metadata": {
    "execution": {
     "iopub.execute_input": "2024-01-26T16:59:43.615631Z",
     "iopub.status.busy": "2024-01-26T16:59:43.615070Z",
     "iopub.status.idle": "2024-01-26T16:59:43.664829Z",
     "shell.execute_reply": "2024-01-26T16:59:43.663822Z"
    },
    "papermill": {
     "duration": 0.057593,
     "end_time": "2024-01-26T16:59:43.667373",
     "exception": false,
     "start_time": "2024-01-26T16:59:43.609780",
     "status": "completed"
    },
    "tags": []
   },
   "outputs": [
    {
     "data": {
      "text/html": [
       "<div>\n",
       "<style scoped>\n",
       "    .dataframe tbody tr th:only-of-type {\n",
       "        vertical-align: middle;\n",
       "    }\n",
       "\n",
       "    .dataframe tbody tr th {\n",
       "        vertical-align: top;\n",
       "    }\n",
       "\n",
       "    .dataframe thead th {\n",
       "        text-align: right;\n",
       "    }\n",
       "</style>\n",
       "<table border=\"1\" class=\"dataframe\">\n",
       "  <thead>\n",
       "    <tr style=\"text-align: right;\">\n",
       "      <th></th>\n",
       "      <th>age</th>\n",
       "      <th>sex</th>\n",
       "      <th>bmi</th>\n",
       "      <th>children</th>\n",
       "      <th>smoker</th>\n",
       "      <th>region</th>\n",
       "      <th>charges</th>\n",
       "    </tr>\n",
       "  </thead>\n",
       "  <tbody>\n",
       "    <tr>\n",
       "      <th>0</th>\n",
       "      <td>19</td>\n",
       "      <td>female</td>\n",
       "      <td>27.900</td>\n",
       "      <td>0</td>\n",
       "      <td>yes</td>\n",
       "      <td>southwest</td>\n",
       "      <td>16884.92400</td>\n",
       "    </tr>\n",
       "    <tr>\n",
       "      <th>1</th>\n",
       "      <td>18</td>\n",
       "      <td>male</td>\n",
       "      <td>33.770</td>\n",
       "      <td>1</td>\n",
       "      <td>no</td>\n",
       "      <td>southeast</td>\n",
       "      <td>1725.55230</td>\n",
       "    </tr>\n",
       "    <tr>\n",
       "      <th>2</th>\n",
       "      <td>28</td>\n",
       "      <td>male</td>\n",
       "      <td>33.000</td>\n",
       "      <td>3</td>\n",
       "      <td>no</td>\n",
       "      <td>southeast</td>\n",
       "      <td>4449.46200</td>\n",
       "    </tr>\n",
       "    <tr>\n",
       "      <th>3</th>\n",
       "      <td>33</td>\n",
       "      <td>male</td>\n",
       "      <td>22.705</td>\n",
       "      <td>0</td>\n",
       "      <td>no</td>\n",
       "      <td>northwest</td>\n",
       "      <td>21984.47061</td>\n",
       "    </tr>\n",
       "    <tr>\n",
       "      <th>4</th>\n",
       "      <td>32</td>\n",
       "      <td>male</td>\n",
       "      <td>28.880</td>\n",
       "      <td>0</td>\n",
       "      <td>no</td>\n",
       "      <td>northwest</td>\n",
       "      <td>3866.85520</td>\n",
       "    </tr>\n",
       "    <tr>\n",
       "      <th>5</th>\n",
       "      <td>31</td>\n",
       "      <td>female</td>\n",
       "      <td>25.740</td>\n",
       "      <td>0</td>\n",
       "      <td>no</td>\n",
       "      <td>southeast</td>\n",
       "      <td>3756.62160</td>\n",
       "    </tr>\n",
       "    <tr>\n",
       "      <th>6</th>\n",
       "      <td>46</td>\n",
       "      <td>female</td>\n",
       "      <td>33.440</td>\n",
       "      <td>1</td>\n",
       "      <td>no</td>\n",
       "      <td>southeast</td>\n",
       "      <td>8240.58960</td>\n",
       "    </tr>\n",
       "    <tr>\n",
       "      <th>7</th>\n",
       "      <td>37</td>\n",
       "      <td>female</td>\n",
       "      <td>27.740</td>\n",
       "      <td>3</td>\n",
       "      <td>no</td>\n",
       "      <td>northwest</td>\n",
       "      <td>7281.50560</td>\n",
       "    </tr>\n",
       "    <tr>\n",
       "      <th>8</th>\n",
       "      <td>37</td>\n",
       "      <td>male</td>\n",
       "      <td>29.830</td>\n",
       "      <td>2</td>\n",
       "      <td>no</td>\n",
       "      <td>northeast</td>\n",
       "      <td>6406.41070</td>\n",
       "    </tr>\n",
       "    <tr>\n",
       "      <th>9</th>\n",
       "      <td>60</td>\n",
       "      <td>female</td>\n",
       "      <td>25.840</td>\n",
       "      <td>0</td>\n",
       "      <td>no</td>\n",
       "      <td>northwest</td>\n",
       "      <td>28923.13692</td>\n",
       "    </tr>\n",
       "  </tbody>\n",
       "</table>\n",
       "</div>"
      ],
      "text/plain": [
       "   age     sex     bmi  children smoker     region      charges\n",
       "0   19  female  27.900         0    yes  southwest  16884.92400\n",
       "1   18    male  33.770         1     no  southeast   1725.55230\n",
       "2   28    male  33.000         3     no  southeast   4449.46200\n",
       "3   33    male  22.705         0     no  northwest  21984.47061\n",
       "4   32    male  28.880         0     no  northwest   3866.85520\n",
       "5   31  female  25.740         0     no  southeast   3756.62160\n",
       "6   46  female  33.440         1     no  southeast   8240.58960\n",
       "7   37  female  27.740         3     no  northwest   7281.50560\n",
       "8   37    male  29.830         2     no  northeast   6406.41070\n",
       "9   60  female  25.840         0     no  northwest  28923.13692"
      ]
     },
     "execution_count": 2,
     "metadata": {},
     "output_type": "execute_result"
    }
   ],
   "source": [
    "df = pd.read_csv('/kaggle/input/medical-insurance-price-prediction/Medical_insurance.csv')\n",
    "df.head(10)"
   ]
  },
  {
   "cell_type": "code",
   "execution_count": 3,
   "id": "17f2b6e8",
   "metadata": {
    "execution": {
     "iopub.execute_input": "2024-01-26T16:59:43.678230Z",
     "iopub.status.busy": "2024-01-26T16:59:43.677822Z",
     "iopub.status.idle": "2024-01-26T16:59:43.684733Z",
     "shell.execute_reply": "2024-01-26T16:59:43.683770Z"
    },
    "papermill": {
     "duration": 0.014549,
     "end_time": "2024-01-26T16:59:43.686662",
     "exception": false,
     "start_time": "2024-01-26T16:59:43.672113",
     "status": "completed"
    },
    "tags": []
   },
   "outputs": [],
   "source": [
    "# replace the '?' entries with NaN values\n",
    "df.replace('?',np.nan, inplace=True)"
   ]
  },
  {
   "cell_type": "markdown",
   "id": "f4e09126",
   "metadata": {
    "papermill": {
     "duration": 0.004026,
     "end_time": "2024-01-26T16:59:43.695003",
     "exception": false,
     "start_time": "2024-01-26T16:59:43.690977",
     "status": "completed"
    },
    "tags": []
   },
   "source": [
    "# **Data Wrangling**"
   ]
  },
  {
   "cell_type": "code",
   "execution_count": 4,
   "id": "70869b70",
   "metadata": {
    "execution": {
     "iopub.execute_input": "2024-01-26T16:59:43.705107Z",
     "iopub.status.busy": "2024-01-26T16:59:43.704734Z",
     "iopub.status.idle": "2024-01-26T16:59:43.728016Z",
     "shell.execute_reply": "2024-01-26T16:59:43.727223Z"
    },
    "papermill": {
     "duration": 0.030729,
     "end_time": "2024-01-26T16:59:43.730086",
     "exception": false,
     "start_time": "2024-01-26T16:59:43.699357",
     "status": "completed"
    },
    "tags": []
   },
   "outputs": [
    {
     "name": "stdout",
     "output_type": "stream",
     "text": [
      "<class 'pandas.core.frame.DataFrame'>\n",
      "RangeIndex: 2772 entries, 0 to 2771\n",
      "Data columns (total 7 columns):\n",
      " #   Column    Non-Null Count  Dtype  \n",
      "---  ------    --------------  -----  \n",
      " 0   age       2772 non-null   int64  \n",
      " 1   sex       2772 non-null   object \n",
      " 2   bmi       2772 non-null   float64\n",
      " 3   children  2772 non-null   int64  \n",
      " 4   smoker    2772 non-null   object \n",
      " 5   region    2772 non-null   object \n",
      " 6   charges   2772 non-null   float64\n",
      "dtypes: float64(2), int64(2), object(3)\n",
      "memory usage: 151.7+ KB\n"
     ]
    }
   ],
   "source": [
    "#using info() to identify the columns that have some Null\n",
    "df.info()"
   ]
  },
  {
   "cell_type": "markdown",
   "id": "33e6805c",
   "metadata": {
    "papermill": {
     "duration": 0.004084,
     "end_time": "2024-01-26T16:59:43.738513",
     "exception": false,
     "start_time": "2024-01-26T16:59:43.734429",
     "status": "completed"
    },
    "tags": []
   },
   "source": [
    "handling missing data:\n",
    "* for continuous attributes (eg: age) replace missing values with the mean\n",
    "* for categorical attributes(eg: smoker) replace missing values with the most frequent value\n",
    "* update the data type of the respective columns\n",
    "* verify the update using info()"
   ]
  },
  {
   "cell_type": "code",
   "execution_count": 5,
   "id": "f47f5901",
   "metadata": {
    "execution": {
     "iopub.execute_input": "2024-01-26T16:59:43.749171Z",
     "iopub.status.busy": "2024-01-26T16:59:43.748294Z",
     "iopub.status.idle": "2024-01-26T16:59:43.766195Z",
     "shell.execute_reply": "2024-01-26T16:59:43.765045Z"
    },
    "papermill": {
     "duration": 0.025561,
     "end_time": "2024-01-26T16:59:43.768388",
     "exception": false,
     "start_time": "2024-01-26T16:59:43.742827",
     "status": "completed"
    },
    "tags": []
   },
   "outputs": [
    {
     "name": "stdout",
     "output_type": "stream",
     "text": [
      "Error converting 'smoker' column to int: invalid literal for int() with base 10: 'yes'\n",
      "<class 'pandas.core.frame.DataFrame'>\n",
      "RangeIndex: 2772 entries, 0 to 2771\n",
      "Data columns (total 7 columns):\n",
      " #   Column    Non-Null Count  Dtype  \n",
      "---  ------    --------------  -----  \n",
      " 0   age       2772 non-null   int64  \n",
      " 1   sex       2772 non-null   object \n",
      " 2   bmi       2772 non-null   float64\n",
      " 3   children  2772 non-null   int64  \n",
      " 4   smoker    2772 non-null   object \n",
      " 5   region    2772 non-null   object \n",
      " 6   charges   2772 non-null   float64\n",
      "dtypes: float64(2), int64(2), object(3)\n",
      "memory usage: 151.7+ KB\n",
      "None\n"
     ]
    }
   ],
   "source": [
    "# smoker is a categorical attribute, replace with most frequent entry\n",
    "is_smoker = df['smoker'].value_counts().idxmax()\n",
    "df[\"smoker\"].replace(np.nan, is_smoker, inplace=True)\n",
    "\n",
    "# age is a continuous variable, replace with mean age\n",
    "mean_age = df['age'].astype('float').mean(axis=0)\n",
    "df[\"age\"].replace(np.nan, mean_age, inplace=True)\n",
    "\n",
    "# Update data types\n",
    "df[\"age\"] = df[\"age\"].astype(int)\n",
    "\n",
    "try:\n",
    "   df[\"smoker\"] = df[\"smoker\"].astype(int)\n",
    "except ValueError as e:\n",
    "    print(f\"Error converting 'smoker' column to int: {e}\")\n",
    "\n",
    "#df[[\"age\",\"smoker\"]] = df[[\"age\",\"smoker\"]].astype(\"int\")\n",
    "\n",
    "print(df.info())"
   ]
  },
  {
   "cell_type": "code",
   "execution_count": 6,
   "id": "1a691d86",
   "metadata": {
    "execution": {
     "iopub.execute_input": "2024-01-26T16:59:43.779307Z",
     "iopub.status.busy": "2024-01-26T16:59:43.778481Z",
     "iopub.status.idle": "2024-01-26T16:59:43.790033Z",
     "shell.execute_reply": "2024-01-26T16:59:43.789224Z"
    },
    "papermill": {
     "duration": 0.019186,
     "end_time": "2024-01-26T16:59:43.792178",
     "exception": false,
     "start_time": "2024-01-26T16:59:43.772992",
     "status": "completed"
    },
    "tags": []
   },
   "outputs": [
    {
     "name": "stdout",
     "output_type": "stream",
     "text": [
      "   age     sex     bmi  children smoker     region   charges\n",
      "0   19  female  27.900         0    yes  southwest  16884.92\n",
      "1   18    male  33.770         1     no  southeast   1725.55\n",
      "2   28    male  33.000         3     no  southeast   4449.46\n",
      "3   33    male  22.705         0     no  northwest  21984.47\n",
      "4   32    male  28.880         0     no  northwest   3866.86\n"
     ]
    }
   ],
   "source": [
    "#update the charges column such that all values are rounded to nearest 2dp\n",
    "df[['charges']] = np.round(df[[\"charges\"]],2)\n",
    "print(df.head())"
   ]
  },
  {
   "cell_type": "markdown",
   "id": "a8a749b6",
   "metadata": {
    "papermill": {
     "duration": 0.004399,
     "end_time": "2024-01-26T16:59:43.801311",
     "exception": false,
     "start_time": "2024-01-26T16:59:43.796912",
     "status": "completed"
    },
    "tags": []
   },
   "source": [
    "# **Exploratory Data Analysis**"
   ]
  },
  {
   "cell_type": "code",
   "execution_count": 7,
   "id": "3d786308",
   "metadata": {
    "execution": {
     "iopub.execute_input": "2024-01-26T16:59:43.811789Z",
     "iopub.status.busy": "2024-01-26T16:59:43.811430Z",
     "iopub.status.idle": "2024-01-26T16:59:44.356638Z",
     "shell.execute_reply": "2024-01-26T16:59:44.355599Z"
    },
    "papermill": {
     "duration": 0.553185,
     "end_time": "2024-01-26T16:59:44.358933",
     "exception": false,
     "start_time": "2024-01-26T16:59:43.805748",
     "status": "completed"
    },
    "tags": []
   },
   "outputs": [
    {
     "data": {
      "text/plain": [
       "(0.0, 66902.85800000001)"
      ]
     },
     "execution_count": 7,
     "metadata": {},
     "output_type": "execute_result"
    },
    {
     "data": {
      "image/png": "[encoded data removed]",
      "text/plain": [
       "<Figure size 640x480 with 1 Axes>"
      ]
     },
     "metadata": {},
     "output_type": "display_data"
    }
   ],
   "source": [
    "#implement the regression plot for charges with respect to bmi\n",
    "sns.regplot(x=\"bmi\", y=\"charges\", data=df, line_kws={\"color\":\"red\"})\n",
    "plt.ylim(0,)"
   ]
  },
  {
   "cell_type": "code",
   "execution_count": 8,
   "id": "002c8ade",
   "metadata": {
    "execution": {
     "iopub.execute_input": "2024-01-26T16:59:44.372364Z",
     "iopub.status.busy": "2024-01-26T16:59:44.371963Z",
     "iopub.status.idle": "2024-01-26T16:59:44.552613Z",
     "shell.execute_reply": "2024-01-26T16:59:44.551625Z"
    },
    "papermill": {
     "duration": 0.190035,
     "end_time": "2024-01-26T16:59:44.555088",
     "exception": false,
     "start_time": "2024-01-26T16:59:44.365053",
     "status": "completed"
    },
    "tags": []
   },
   "outputs": [
    {
     "data": {
      "text/plain": [
       "<Axes: xlabel='smoker', ylabel='charges'>"
      ]
     },
     "execution_count": 8,
     "metadata": {},
     "output_type": "execute_result"
    },
    {
     "data": {
      "image/png": "[encoded data removed]",
      "text/plain": [
       "<Figure size 640x480 with 1 Axes>"
      ]
     },
     "metadata": {},
     "output_type": "display_data"
    }
   ],
   "source": [
    "#implement the box plot for charges with respect to smoker\n",
    "sns.boxplot(x=\"smoker\", y=\"charges\", data=df)"
   ]
  },
  {
   "cell_type": "markdown",
   "id": "3318778b",
   "metadata": {
    "execution": {
     "iopub.execute_input": "2024-01-26T14:46:56.560593Z",
     "iopub.status.busy": "2024-01-26T14:46:56.560181Z",
     "iopub.status.idle": "2024-01-26T14:46:56.634077Z",
     "shell.execute_reply": "2024-01-26T14:46:56.632785Z",
     "shell.execute_reply.started": "2024-01-26T14:46:56.560559Z"
    },
    "papermill": {
     "duration": 0.006363,
     "end_time": "2024-01-26T16:59:44.567633",
     "exception": false,
     "start_time": "2024-01-26T16:59:44.561270",
     "status": "completed"
    },
    "tags": []
   },
   "source": [
    "# **Model Development**"
   ]
  },
  {
   "cell_type": "code",
   "execution_count": 9,
   "id": "5dbdcf57",
   "metadata": {
    "execution": {
     "iopub.execute_input": "2024-01-26T16:59:44.582045Z",
     "iopub.status.busy": "2024-01-26T16:59:44.581096Z",
     "iopub.status.idle": "2024-01-26T16:59:44.613889Z",
     "shell.execute_reply": "2024-01-26T16:59:44.613109Z"
    },
    "papermill": {
     "duration": 0.042062,
     "end_time": "2024-01-26T16:59:44.616070",
     "exception": false,
     "start_time": "2024-01-26T16:59:44.574008",
     "status": "completed"
    },
    "tags": []
   },
   "outputs": [
    {
     "name": "stdout",
     "output_type": "stream",
     "text": [
      "0.6215176724160532\n"
     ]
    }
   ],
   "source": [
    "#fit a linear regression model that may be used to predict the charges value\n",
    "# just by using the smoker attribute of the dataset.\n",
    "#print the R^2 score of this model\n",
    "\n",
    "X =df[['smoker']]\n",
    "Y = df['charges']\n",
    "\n",
    "# Create a transformer for one-hot encoding the 'smoker' column\n",
    "preprocessor = ColumnTransformer(\n",
    "    transformers=[('smoker', OneHotEncoder(), ['smoker'])],\n",
    "    remainder='passthrough'\n",
    ")\n",
    "\n",
    "# Create a pipeline with the transformer and the linear regression model\n",
    "model = Pipeline(steps=[('preprocessor', preprocessor),\n",
    "                        ('regressor', LinearRegression())])\n",
    "\n",
    "model.fit(X,Y)\n",
    "print(model.score(X,Y))"
   ]
  },
  {
   "cell_type": "code",
   "execution_count": 10,
   "id": "1b66896e",
   "metadata": {
    "execution": {
     "iopub.execute_input": "2024-01-26T16:59:44.630540Z",
     "iopub.status.busy": "2024-01-26T16:59:44.629891Z",
     "iopub.status.idle": "2024-01-26T16:59:44.656145Z",
     "shell.execute_reply": "2024-01-26T16:59:44.654955Z"
    },
    "papermill": {
     "duration": 0.036762,
     "end_time": "2024-01-26T16:59:44.659179",
     "exception": false,
     "start_time": "2024-01-26T16:59:44.622417",
     "status": "completed"
    },
    "tags": []
   },
   "outputs": [
    {
     "name": "stdout",
     "output_type": "stream",
     "text": [
      "0.7509331529861025\n"
     ]
    }
   ],
   "source": [
    "#fit a linear regression model that may be used to predict the charges value,\n",
    "#just by using all other attributes of the dataset.\n",
    "#print the R^2 score of this model\n",
    "\n",
    "#create a new dataframe with one-hot encoded categorical variables\n",
    "Z = pd.get_dummies(df[[\"age\",\"sex\",\"bmi\",\"children\",\"smoker\",\"region\"]])\n",
    "\n",
    "#initialize the linear regression model\n",
    "lm =LinearRegression()\n",
    "\n",
    "lm.fit(Z,Y)\n",
    "print(lm.score(Z,Y))"
   ]
  },
  {
   "cell_type": "code",
   "execution_count": 11,
   "id": "4c676272",
   "metadata": {
    "execution": {
     "iopub.execute_input": "2024-01-26T16:59:44.682614Z",
     "iopub.status.busy": "2024-01-26T16:59:44.682076Z",
     "iopub.status.idle": "2024-01-26T16:59:44.728822Z",
     "shell.execute_reply": "2024-01-26T16:59:44.727743Z"
    },
    "papermill": {
     "duration": 0.061754,
     "end_time": "2024-01-26T16:59:44.731634",
     "exception": false,
     "start_time": "2024-01-26T16:59:44.669880",
     "status": "completed"
    },
    "tags": []
   },
   "outputs": [
    {
     "name": "stdout",
     "output_type": "stream",
     "text": [
      "0.8473189075405922\n"
     ]
    }
   ],
   "source": [
    "#create a training pipeline that uses StandardScaler(), PolynomialFeatures() and LinearRegression()\n",
    "#to create a model that can predict the charges value using all the other attributes of the dataset.\n",
    "\n",
    "# Y and Z use the same values as defined in previous cells\n",
    "Input =[('scale',StandardScaler()),('polynomial',\n",
    "                                   PolynomialFeatures(include_bias=False)),('model',\n",
    "                                                                          LinearRegression())]\n",
    "pipe = Pipeline(Input)\n",
    "Z = Z.astype(float)\n",
    "pipe.fit(Z,Y)\n",
    "ypipe =pipe.predict(Z)\n",
    "\n",
    "#print  R^2 score\n",
    "print(r2_score(Y,ypipe))"
   ]
  }
 ],
 "metadata": {
  "kaggle": {
   "accelerator": "none",
   "dataSources": [
    {
     "datasetId": 3435279,
     "sourceId": 5995753,
     "sourceType": "datasetVersion"
    }
   ],
   "dockerImageVersionId": 30635,
   "isGpuEnabled": false,
   "isInternetEnabled": true,
   "language": "python",
   "sourceType": "notebook"
  },
  "kernelspec": {
   "display_name": "Python 3",
   "language": "python",
   "name": "python3"
  },
  "language_info": {
   "codemirror_mode": {
    "name": "ipython",
    "version": 3
   },
   "file_extension": ".py",
   "mimetype": "text/x-python",
   "name": "python",
   "nbconvert_exporter": "python",
   "pygments_lexer": "ipython3",
   "version": "3.10.12"
  },
  "papermill": {
   "default_parameters": {},
   "duration": 6.58842,
   "end_time": "2024-01-26T16:59:45.367799",
   "environment_variables": {},
   "exception": null,
   "input_path": "__notebook__.ipynb",
   "output_path": "__notebook__.ipynb",
   "parameters": {},
   "start_time": "2024-01-26T16:59:38.779379",
   "version": "2.4.0"
  }
 },
 "nbformat": 4,
 "nbformat_minor": 5
}
