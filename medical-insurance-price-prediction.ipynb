{
 "cells": [
  {
   "cell_type": "markdown",
   "id": "d316ff0f",
   "metadata": {
    "_cell_guid": "b1076dfc-b9ad-4769-8c92-a6c4dae69d19",
    "_uuid": "8f2839f25d086af736a60e9eeb907d3b93b6e0e5",
    "papermill": {
     "duration": 0.003917,
     "end_time": "2024-01-26T16:48:02.455341",
     "exception": false,
     "start_time": "2024-01-26T16:48:02.451424",
     "status": "completed"
    },
    "tags": []
   },
   "source": [
    "# **Objectives**\n",
    "in this project, you will:\n",
    "* load the data as a pandas dataframe\n",
    "* cleann the data, taking care of the blank entries\n",
    "* run exploratory data analysis(EDA) and identify the attributes that most affect the charges\n",
    "* develop single variable and multi-variable Linear Regression Models for predictinf the charges\n",
    "* Use Ridge regression to refine the performance of Linear regression models"
   ]
  },
  {
   "cell_type": "code",
   "execution_count": 1,
   "id": "4ea62ea7",
   "metadata": {
    "execution": {
     "iopub.execute_input": "2024-01-26T16:48:02.463524Z",
     "iopub.status.busy": "2024-01-26T16:48:02.463235Z",
     "iopub.status.idle": "2024-01-26T16:48:04.157074Z",
     "shell.execute_reply": "2024-01-26T16:48:04.156142Z"
    },
    "papermill": {
     "duration": 1.700427,
     "end_time": "2024-01-26T16:48:04.159302",
     "exception": false,
     "start_time": "2024-01-26T16:48:02.458875",
     "status": "completed"
    },
    "tags": []
   },
   "outputs": [],
   "source": [
    "#import the libraries\n",
    "import pandas as pd\n",
    "import numpy as np\n",
    "import matplotlib.pyplot as plt\n",
    "import seaborn as sns\n",
    "from sklearn.pipeline import Pipeline\n",
    "from sklearn.compose import ColumnTransformer \n",
    "from sklearn.preprocessing import StandardScaler, PolynomialFeatures, OneHotEncoder\n",
    "from sklearn.linear_model import LinearRegression, Ridge\n",
    "from sklearn.metrics import mean_squared_error, r2_score\n",
    "from sklearn.model_selection import cross_val_score, train_test_split"
   ]
  },
  {
   "cell_type": "code",
   "execution_count": 2,
   "id": "d3045bdc",
   "metadata": {
    "execution": {
     "iopub.execute_input": "2024-01-26T16:48:04.168283Z",
     "iopub.status.busy": "2024-01-26T16:48:04.167768Z",
     "iopub.status.idle": "2024-01-26T16:48:04.222493Z",
     "shell.execute_reply": "2024-01-26T16:48:04.221532Z"
    },
    "papermill": {
     "duration": 0.061257,
     "end_time": "2024-01-26T16:48:04.224366",
     "exception": false,
     "start_time": "2024-01-26T16:48:04.163109",
     "status": "completed"
    },
    "tags": []
   },
   "outputs": [
    {
     "data": {
      "text/html": [
       "<div>\n",
       "<style scoped>\n",
       "    .dataframe tbody tr th:only-of-type {\n",
       "        vertical-align: middle;\n",
       "    }\n",
       "\n",
       "    .dataframe tbody tr th {\n",
       "        vertical-align: top;\n",
       "    }\n",
       "\n",
       "    .dataframe thead th {\n",
       "        text-align: right;\n",
       "    }\n",
       "</style>\n",
       "<table border=\"1\" class=\"dataframe\">\n",
       "  <thead>\n",
       "    <tr style=\"text-align: right;\">\n",
       "      <th></th>\n",
       "      <th>age</th>\n",
       "      <th>sex</th>\n",
       "      <th>bmi</th>\n",
       "      <th>children</th>\n",
       "      <th>smoker</th>\n",
       "      <th>region</th>\n",
       "      <th>charges</th>\n",
       "    </tr>\n",
       "  </thead>\n",
       "  <tbody>\n",
       "    <tr>\n",
       "      <th>0</th>\n",
       "      <td>19</td>\n",
       "      <td>female</td>\n",
       "      <td>27.900</td>\n",
       "      <td>0</td>\n",
       "      <td>yes</td>\n",
       "      <td>southwest</td>\n",
       "      <td>16884.92400</td>\n",
       "    </tr>\n",
       "    <tr>\n",
       "      <th>1</th>\n",
       "      <td>18</td>\n",
       "      <td>male</td>\n",
       "      <td>33.770</td>\n",
       "      <td>1</td>\n",
       "      <td>no</td>\n",
       "      <td>southeast</td>\n",
       "      <td>1725.55230</td>\n",
       "    </tr>\n",
       "    <tr>\n",
       "      <th>2</th>\n",
       "      <td>28</td>\n",
       "      <td>male</td>\n",
       "      <td>33.000</td>\n",
       "      <td>3</td>\n",
       "      <td>no</td>\n",
       "      <td>southeast</td>\n",
       "      <td>4449.46200</td>\n",
       "    </tr>\n",
       "    <tr>\n",
       "      <th>3</th>\n",
       "      <td>33</td>\n",
       "      <td>male</td>\n",
       "      <td>22.705</td>\n",
       "      <td>0</td>\n",
       "      <td>no</td>\n",
       "      <td>northwest</td>\n",
       "      <td>21984.47061</td>\n",
       "    </tr>\n",
       "    <tr>\n",
       "      <th>4</th>\n",
       "      <td>32</td>\n",
       "      <td>male</td>\n",
       "      <td>28.880</td>\n",
       "      <td>0</td>\n",
       "      <td>no</td>\n",
       "      <td>northwest</td>\n",
       "      <td>3866.85520</td>\n",
       "    </tr>\n",
       "    <tr>\n",
       "      <th>5</th>\n",
       "      <td>31</td>\n",
       "      <td>female</td>\n",
       "      <td>25.740</td>\n",
       "      <td>0</td>\n",
       "      <td>no</td>\n",
       "      <td>southeast</td>\n",
       "      <td>3756.62160</td>\n",
       "    </tr>\n",
       "    <tr>\n",
       "      <th>6</th>\n",
       "      <td>46</td>\n",
       "      <td>female</td>\n",
       "      <td>33.440</td>\n",
       "      <td>1</td>\n",
       "      <td>no</td>\n",
       "      <td>southeast</td>\n",
       "      <td>8240.58960</td>\n",
       "    </tr>\n",
       "    <tr>\n",
       "      <th>7</th>\n",
       "      <td>37</td>\n",
       "      <td>female</td>\n",
       "      <td>27.740</td>\n",
       "      <td>3</td>\n",
       "      <td>no</td>\n",
       "      <td>northwest</td>\n",
       "      <td>7281.50560</td>\n",
       "    </tr>\n",
       "    <tr>\n",
       "      <th>8</th>\n",
       "      <td>37</td>\n",
       "      <td>male</td>\n",
       "      <td>29.830</td>\n",
       "      <td>2</td>\n",
       "      <td>no</td>\n",
       "      <td>northeast</td>\n",
       "      <td>6406.41070</td>\n",
       "    </tr>\n",
       "    <tr>\n",
       "      <th>9</th>\n",
       "      <td>60</td>\n",
       "      <td>female</td>\n",
       "      <td>25.840</td>\n",
       "      <td>0</td>\n",
       "      <td>no</td>\n",
       "      <td>northwest</td>\n",
       "      <td>28923.13692</td>\n",
       "    </tr>\n",
       "  </tbody>\n",
       "</table>\n",
       "</div>"
      ],
      "text/plain": [
       "   age     sex     bmi  children smoker     region      charges\n",
       "0   19  female  27.900         0    yes  southwest  16884.92400\n",
       "1   18    male  33.770         1     no  southeast   1725.55230\n",
       "2   28    male  33.000         3     no  southeast   4449.46200\n",
       "3   33    male  22.705         0     no  northwest  21984.47061\n",
       "4   32    male  28.880         0     no  northwest   3866.85520\n",
       "5   31  female  25.740         0     no  southeast   3756.62160\n",
       "6   46  female  33.440         1     no  southeast   8240.58960\n",
       "7   37  female  27.740         3     no  northwest   7281.50560\n",
       "8   37    male  29.830         2     no  northeast   6406.41070\n",
       "9   60  female  25.840         0     no  northwest  28923.13692"
      ]
     },
     "execution_count": 2,
     "metadata": {},
     "output_type": "execute_result"
    }
   ],
   "source": [
    "df = pd.read_csv('/kaggle/input/medical-insurance-price-prediction/Medical_insurance.csv')\n",
    "df.head(10)"
   ]
  },
  {
   "cell_type": "code",
   "execution_count": 3,
   "id": "3f00b11d",
   "metadata": {
    "execution": {
     "iopub.execute_input": "2024-01-26T16:48:04.232773Z",
     "iopub.status.busy": "2024-01-26T16:48:04.232451Z",
     "iopub.status.idle": "2024-01-26T16:48:04.238531Z",
     "shell.execute_reply": "2024-01-26T16:48:04.237579Z"
    },
    "papermill": {
     "duration": 0.012195,
     "end_time": "2024-01-26T16:48:04.240326",
     "exception": false,
     "start_time": "2024-01-26T16:48:04.228131",
     "status": "completed"
    },
    "tags": []
   },
   "outputs": [],
   "source": [
    "# replace the '?' entries with NaN values\n",
    "df.replace('?',np.nan, inplace=True)"
   ]
  },
  {
   "cell_type": "markdown",
   "id": "e050ea07",
   "metadata": {
    "papermill": {
     "duration": 0.003264,
     "end_time": "2024-01-26T16:48:04.247110",
     "exception": false,
     "start_time": "2024-01-26T16:48:04.243846",
     "status": "completed"
    },
    "tags": []
   },
   "source": [
    "# **Data Wrangling**"
   ]
  },
  {
   "cell_type": "code",
   "execution_count": 4,
   "id": "d30d6eec",
   "metadata": {
    "execution": {
     "iopub.execute_input": "2024-01-26T16:48:04.255613Z",
     "iopub.status.busy": "2024-01-26T16:48:04.255025Z",
     "iopub.status.idle": "2024-01-26T16:48:04.276280Z",
     "shell.execute_reply": "2024-01-26T16:48:04.275433Z"
    },
    "papermill": {
     "duration": 0.027932,
     "end_time": "2024-01-26T16:48:04.278342",
     "exception": false,
     "start_time": "2024-01-26T16:48:04.250410",
     "status": "completed"
    },
    "tags": []
   },
   "outputs": [
    {
     "name": "stdout",
     "output_type": "stream",
     "text": [
      "<class 'pandas.core.frame.DataFrame'>\n",
      "RangeIndex: 2772 entries, 0 to 2771\n",
      "Data columns (total 7 columns):\n",
      " #   Column    Non-Null Count  Dtype  \n",
      "---  ------    --------------  -----  \n",
      " 0   age       2772 non-null   int64  \n",
      " 1   sex       2772 non-null   object \n",
      " 2   bmi       2772 non-null   float64\n",
      " 3   children  2772 non-null   int64  \n",
      " 4   smoker    2772 non-null   object \n",
      " 5   region    2772 non-null   object \n",
      " 6   charges   2772 non-null   float64\n",
      "dtypes: float64(2), int64(2), object(3)\n",
      "memory usage: 151.7+ KB\n"
     ]
    }
   ],
   "source": [
    "#using info() to identify the columns that have some Null\n",
    "df.info()"
   ]
  },
  {
   "cell_type": "markdown",
   "id": "b7fd9844",
   "metadata": {
    "papermill": {
     "duration": 0.003272,
     "end_time": "2024-01-26T16:48:04.285228",
     "exception": false,
     "start_time": "2024-01-26T16:48:04.281956",
     "status": "completed"
    },
    "tags": []
   },
   "source": [
    "handling missing data:\n",
    "* for continuous attributes (eg: age) replace missing values with the mean\n",
    "* for categorical attributes(eg: smoker) replace missing values with the most frequent value\n",
    "* update the data type of the respective columns\n",
    "* verify the update using info()"
   ]
  },
  {
   "cell_type": "code",
   "execution_count": 5,
   "id": "b6ddfef7",
   "metadata": {
    "execution": {
     "iopub.execute_input": "2024-01-26T16:48:04.294007Z",
     "iopub.status.busy": "2024-01-26T16:48:04.293470Z",
     "iopub.status.idle": "2024-01-26T16:48:04.308912Z",
     "shell.execute_reply": "2024-01-26T16:48:04.307615Z"
    },
    "papermill": {
     "duration": 0.022492,
     "end_time": "2024-01-26T16:48:04.311160",
     "exception": false,
     "start_time": "2024-01-26T16:48:04.288668",
     "status": "completed"
    },
    "tags": []
   },
   "outputs": [
    {
     "name": "stdout",
     "output_type": "stream",
     "text": [
      "Error converting 'smoker' column to int: invalid literal for int() with base 10: 'yes'\n",
      "<class 'pandas.core.frame.DataFrame'>\n",
      "RangeIndex: 2772 entries, 0 to 2771\n",
      "Data columns (total 7 columns):\n",
      " #   Column    Non-Null Count  Dtype  \n",
      "---  ------    --------------  -----  \n",
      " 0   age       2772 non-null   int64  \n",
      " 1   sex       2772 non-null   object \n",
      " 2   bmi       2772 non-null   float64\n",
      " 3   children  2772 non-null   int64  \n",
      " 4   smoker    2772 non-null   object \n",
      " 5   region    2772 non-null   object \n",
      " 6   charges   2772 non-null   float64\n",
      "dtypes: float64(2), int64(2), object(3)\n",
      "memory usage: 151.7+ KB\n",
      "None\n"
     ]
    }
   ],
   "source": [
    "# smoker is a categorical attribute, replace with most frequent entry\n",
    "is_smoker = df['smoker'].value_counts().idxmax()\n",
    "df[\"smoker\"].replace(np.nan, is_smoker, inplace=True)\n",
    "\n",
    "# age is a continuous variable, replace with mean age\n",
    "mean_age = df['age'].astype('float').mean(axis=0)\n",
    "df[\"age\"].replace(np.nan, mean_age, inplace=True)\n",
    "\n",
    "# Update data types\n",
    "df[\"age\"] = df[\"age\"].astype(int)\n",
    "\n",
    "try:\n",
    "   df[\"smoker\"] = df[\"smoker\"].astype(int)\n",
    "except ValueError as e:\n",
    "    print(f\"Error converting 'smoker' column to int: {e}\")\n",
    "\n",
    "#df[[\"age\",\"smoker\"]] = df[[\"age\",\"smoker\"]].astype(\"int\")\n",
    "\n",
    "print(df.info())"
   ]
  },
  {
   "cell_type": "code",
   "execution_count": 6,
   "id": "1b2f6aab",
   "metadata": {
    "execution": {
     "iopub.execute_input": "2024-01-26T16:48:04.320130Z",
     "iopub.status.busy": "2024-01-26T16:48:04.319771Z",
     "iopub.status.idle": "2024-01-26T16:48:04.330739Z",
     "shell.execute_reply": "2024-01-26T16:48:04.329185Z"
    },
    "papermill": {
     "duration": 0.017493,
     "end_time": "2024-01-26T16:48:04.332731",
     "exception": false,
     "start_time": "2024-01-26T16:48:04.315238",
     "status": "completed"
    },
    "tags": []
   },
   "outputs": [
    {
     "name": "stdout",
     "output_type": "stream",
     "text": [
      "   age     sex     bmi  children smoker     region   charges\n",
      "0   19  female  27.900         0    yes  southwest  16884.92\n",
      "1   18    male  33.770         1     no  southeast   1725.55\n",
      "2   28    male  33.000         3     no  southeast   4449.46\n",
      "3   33    male  22.705         0     no  northwest  21984.47\n",
      "4   32    male  28.880         0     no  northwest   3866.86\n"
     ]
    }
   ],
   "source": [
    "#update the charges column such that all values are rounded to nearest 2dp\n",
    "df[['charges']] = np.round(df[[\"charges\"]],2)\n",
    "print(df.head())"
   ]
  },
  {
   "cell_type": "markdown",
   "id": "f81f83a1",
   "metadata": {
    "papermill": {
     "duration": 0.003479,
     "end_time": "2024-01-26T16:48:04.340245",
     "exception": false,
     "start_time": "2024-01-26T16:48:04.336766",
     "status": "completed"
    },
    "tags": []
   },
   "source": [
    "# **Exploratory Data Analysis**"
   ]
  },
  {
   "cell_type": "code",
   "execution_count": 7,
   "id": "ed46219e",
   "metadata": {
    "execution": {
     "iopub.execute_input": "2024-01-26T16:48:04.348705Z",
     "iopub.status.busy": "2024-01-26T16:48:04.348444Z",
     "iopub.status.idle": "2024-01-26T16:48:04.823932Z",
     "shell.execute_reply": "2024-01-26T16:48:04.823279Z"
    },
    "papermill": {
     "duration": 0.481702,
     "end_time": "2024-01-26T16:48:04.825575",
     "exception": false,
     "start_time": "2024-01-26T16:48:04.343873",
     "status": "completed"
    },
    "tags": []
   },
   "outputs": [
    {
     "data": {
      "text/plain": [
       "(0.0, 66902.85800000001)"
      ]
     },
     "execution_count": 7,
     "metadata": {},
     "output_type": "execute_result"
    },
    {
     "data": {
      "image/png": "[encoded data removed]",
      "text/plain": [
       "<Figure size 640x480 with 1 Axes>"
      ]
     },
     "metadata": {},
     "output_type": "display_data"
    }
   ],
   "source": [
    "#implement the regression plot for charges with respect to bmi\n",
    "sns.regplot(x=\"bmi\", y=\"charges\", data=df, line_kws={\"color\":\"red\"})\n",
    "plt.ylim(0,)"
   ]
  },
  {
   "cell_type": "code",
   "execution_count": 8,
   "id": "bde68121",
   "metadata": {
    "execution": {
     "iopub.execute_input": "2024-01-26T16:48:04.835924Z",
     "iopub.status.busy": "2024-01-26T16:48:04.835542Z",
     "iopub.status.idle": "2024-01-26T16:48:05.002288Z",
     "shell.execute_reply": "2024-01-26T16:48:05.001617Z"
    },
    "papermill": {
     "duration": 0.173677,
     "end_time": "2024-01-26T16:48:05.003752",
     "exception": false,
     "start_time": "2024-01-26T16:48:04.830075",
     "status": "completed"
    },
    "tags": []
   },
   "outputs": [
    {
     "data": {
      "text/plain": [
       "<Axes: xlabel='smoker', ylabel='charges'>"
      ]
     },
     "execution_count": 8,
     "metadata": {},
     "output_type": "execute_result"
    },
    {
     "data": {
      "image/png": "[encoded data removed]",
      "text/plain": [
       "<Figure size 640x480 with 1 Axes>"
      ]
     },
     "metadata": {},
     "output_type": "display_data"
    }
   ],
   "source": [
    "#implement the box plot for charges with respect to smoker\n",
    "sns.boxplot(x=\"smoker\", y=\"charges\", data=df)"
   ]
  },
  {
   "cell_type": "markdown",
   "id": "f3473962",
   "metadata": {
    "execution": {
     "iopub.execute_input": "2024-01-26T14:46:56.560593Z",
     "iopub.status.busy": "2024-01-26T14:46:56.560181Z",
     "iopub.status.idle": "2024-01-26T14:46:56.634077Z",
     "shell.execute_reply": "2024-01-26T14:46:56.632785Z",
     "shell.execute_reply.started": "2024-01-26T14:46:56.560559Z"
    },
    "papermill": {
     "duration": 0.004537,
     "end_time": "2024-01-26T16:48:05.013163",
     "exception": false,
     "start_time": "2024-01-26T16:48:05.008626",
     "status": "completed"
    },
    "tags": []
   },
   "source": [
    "# **Model Development**"
   ]
  },
  {
   "cell_type": "code",
   "execution_count": 9,
   "id": "41c3ddeb",
   "metadata": {
    "execution": {
     "iopub.execute_input": "2024-01-26T16:48:05.023920Z",
     "iopub.status.busy": "2024-01-26T16:48:05.023510Z",
     "iopub.status.idle": "2024-01-26T16:48:05.054341Z",
     "shell.execute_reply": "2024-01-26T16:48:05.053357Z"
    },
    "papermill": {
     "duration": 0.038299,
     "end_time": "2024-01-26T16:48:05.056204",
     "exception": false,
     "start_time": "2024-01-26T16:48:05.017905",
     "status": "completed"
    },
    "tags": []
   },
   "outputs": [
    {
     "name": "stdout",
     "output_type": "stream",
     "text": [
      "0.6215176724160532\n"
     ]
    }
   ],
   "source": [
    "#fit a linear regression model that may be used to predict the charges value\n",
    "# just by using the smoker attribute of the dataset.\n",
    "#print the R^2 score of this model\n",
    "\n",
    "X =df[['smoker']]\n",
    "Y = df['charges']\n",
    "\n",
    "# Create a transformer for one-hot encoding the 'smoker' column\n",
    "preprocessor = ColumnTransformer(\n",
    "    transformers=[('smoker', OneHotEncoder(), ['smoker'])],\n",
    "    remainder='passthrough'\n",
    ")\n",
    "\n",
    "# Create a pipeline with the transformer and the linear regression model\n",
    "model = Pipeline(steps=[('preprocessor', preprocessor),\n",
    "                        ('regressor', LinearRegression())])\n",
    "\n",
    "model.fit(X,Y)\n",
    "print(model.score(X,Y))"
   ]
  },
  {
   "cell_type": "code",
   "execution_count": 10,
   "id": "5a5e6913",
   "metadata": {
    "execution": {
     "iopub.execute_input": "2024-01-26T16:48:05.067246Z",
     "iopub.status.busy": "2024-01-26T16:48:05.066918Z",
     "iopub.status.idle": "2024-01-26T16:48:05.088473Z",
     "shell.execute_reply": "2024-01-26T16:48:05.087536Z"
    },
    "papermill": {
     "duration": 0.030264,
     "end_time": "2024-01-26T16:48:05.091315",
     "exception": false,
     "start_time": "2024-01-26T16:48:05.061051",
     "status": "completed"
    },
    "tags": []
   },
   "outputs": [
    {
     "name": "stdout",
     "output_type": "stream",
     "text": [
      "0.7509331529861025\n"
     ]
    }
   ],
   "source": [
    "#fit a linear regression model that may be used to predict the charges value,\n",
    "#just by using all other attributes of the dataset.\n",
    "#print the R^2 score of this model\n",
    "\n",
    "#create a new dataframe with one-hot encoded categorical variables\n",
    "Z = pd.get_dummies(df[[\"age\",\"sex\",\"bmi\",\"children\",\"smoker\",\"region\"]])\n",
    "\n",
    "#initialize the linear regression model\n",
    "lm =LinearRegression()\n",
    "\n",
    "lm.fit(Z,Y)\n",
    "print(lm.score(Z,Y))"
   ]
  }
 ],
 "metadata": {
  "kaggle": {
   "accelerator": "none",
   "dataSources": [
    {
     "datasetId": 3435279,
     "sourceId": 5995753,
     "sourceType": "datasetVersion"
    }
   ],
   "dockerImageVersionId": 30635,
   "isGpuEnabled": false,
   "isInternetEnabled": true,
   "language": "python",
   "sourceType": "notebook"
  },
  "kernelspec": {
   "display_name": "Python 3",
   "language": "python",
   "name": "python3"
  },
  "language_info": {
   "codemirror_mode": {
    "name": "ipython",
    "version": 3
   },
   "file_extension": ".py",
   "mimetype": "text/x-python",
   "name": "python",
   "nbconvert_exporter": "python",
   "pygments_lexer": "ipython3",
   "version": "3.10.12"
  },
  "papermill": {
   "default_parameters": {},
   "duration": 5.6096,
   "end_time": "2024-01-26T16:48:05.632036",
   "environment_variables": {},
   "exception": null,
   "input_path": "__notebook__.ipynb",
   "output_path": "__notebook__.ipynb",
   "parameters": {},
   "start_time": "2024-01-26T16:48:00.022436",
   "version": "2.4.0"
  }
 },
 "nbformat": 4,
 "nbformat_minor": 5
}
