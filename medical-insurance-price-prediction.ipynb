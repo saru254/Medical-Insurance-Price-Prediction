{
 "cells": [
  {
   "cell_type": "markdown",
   "id": "086ef644",
   "metadata": {
    "_cell_guid": "b1076dfc-b9ad-4769-8c92-a6c4dae69d19",
    "_uuid": "8f2839f25d086af736a60e9eeb907d3b93b6e0e5",
    "papermill": {
     "duration": 0.004099,
     "end_time": "2024-01-26T14:39:47.474603",
     "exception": false,
     "start_time": "2024-01-26T14:39:47.470504",
     "status": "completed"
    },
    "tags": []
   },
   "source": [
    "# **Objectives**\n",
    "in this project, you will:\n",
    "* load the data as a pandas dataframe\n",
    "* cleann the data, taking care of the blank entries\n",
    "* run exploratory data analysis(EDA) and identify the attributes that most affect the charges\n",
    "* develop single variable and multi-variable Linear Regression Models for predictinf the charges\n",
    "* Use Ridge regression to refine the performance of Linear regression models"
   ]
  },
  {
   "cell_type": "code",
   "execution_count": 1,
   "id": "54b0b4fe",
   "metadata": {
    "execution": {
     "iopub.execute_input": "2024-01-26T14:39:47.484539Z",
     "iopub.status.busy": "2024-01-26T14:39:47.484066Z",
     "iopub.status.idle": "2024-01-26T14:39:50.023368Z",
     "shell.execute_reply": "2024-01-26T14:39:50.022180Z"
    },
    "papermill": {
     "duration": 2.54861,
     "end_time": "2024-01-26T14:39:50.026896",
     "exception": false,
     "start_time": "2024-01-26T14:39:47.478286",
     "status": "completed"
    },
    "tags": []
   },
   "outputs": [],
   "source": [
    "#import the libraries\n",
    "import pandas as pd\n",
    "import numpy as np\n",
    "import matplotlib.pyplot as plt\n",
    "import seaborn as sns\n",
    "from sklearn.pipeline import Pipeline\n",
    "from sklearn.preprocessing import StandardScaler, PolynomialFeatures\n",
    "from sklearn.linear_model import LinearRegression, Ridge\n",
    "from sklearn.metrics import mean_squared_error, r2_score\n",
    "from sklearn.model_selection import cross_val_score, train_test_split"
   ]
  },
  {
   "cell_type": "code",
   "execution_count": 2,
   "id": "56534014",
   "metadata": {
    "execution": {
     "iopub.execute_input": "2024-01-26T14:39:50.037337Z",
     "iopub.status.busy": "2024-01-26T14:39:50.036664Z",
     "iopub.status.idle": "2024-01-26T14:39:50.110274Z",
     "shell.execute_reply": "2024-01-26T14:39:50.108037Z"
    },
    "papermill": {
     "duration": 0.082061,
     "end_time": "2024-01-26T14:39:50.113106",
     "exception": false,
     "start_time": "2024-01-26T14:39:50.031045",
     "status": "completed"
    },
    "tags": []
   },
   "outputs": [
    {
     "data": {
      "text/html": [
       "<div>\n",
       "<style scoped>\n",
       "    .dataframe tbody tr th:only-of-type {\n",
       "        vertical-align: middle;\n",
       "    }\n",
       "\n",
       "    .dataframe tbody tr th {\n",
       "        vertical-align: top;\n",
       "    }\n",
       "\n",
       "    .dataframe thead th {\n",
       "        text-align: right;\n",
       "    }\n",
       "</style>\n",
       "<table border=\"1\" class=\"dataframe\">\n",
       "  <thead>\n",
       "    <tr style=\"text-align: right;\">\n",
       "      <th></th>\n",
       "      <th>age</th>\n",
       "      <th>sex</th>\n",
       "      <th>bmi</th>\n",
       "      <th>children</th>\n",
       "      <th>smoker</th>\n",
       "      <th>region</th>\n",
       "      <th>charges</th>\n",
       "    </tr>\n",
       "  </thead>\n",
       "  <tbody>\n",
       "    <tr>\n",
       "      <th>0</th>\n",
       "      <td>19</td>\n",
       "      <td>female</td>\n",
       "      <td>27.900</td>\n",
       "      <td>0</td>\n",
       "      <td>yes</td>\n",
       "      <td>southwest</td>\n",
       "      <td>16884.92400</td>\n",
       "    </tr>\n",
       "    <tr>\n",
       "      <th>1</th>\n",
       "      <td>18</td>\n",
       "      <td>male</td>\n",
       "      <td>33.770</td>\n",
       "      <td>1</td>\n",
       "      <td>no</td>\n",
       "      <td>southeast</td>\n",
       "      <td>1725.55230</td>\n",
       "    </tr>\n",
       "    <tr>\n",
       "      <th>2</th>\n",
       "      <td>28</td>\n",
       "      <td>male</td>\n",
       "      <td>33.000</td>\n",
       "      <td>3</td>\n",
       "      <td>no</td>\n",
       "      <td>southeast</td>\n",
       "      <td>4449.46200</td>\n",
       "    </tr>\n",
       "    <tr>\n",
       "      <th>3</th>\n",
       "      <td>33</td>\n",
       "      <td>male</td>\n",
       "      <td>22.705</td>\n",
       "      <td>0</td>\n",
       "      <td>no</td>\n",
       "      <td>northwest</td>\n",
       "      <td>21984.47061</td>\n",
       "    </tr>\n",
       "    <tr>\n",
       "      <th>4</th>\n",
       "      <td>32</td>\n",
       "      <td>male</td>\n",
       "      <td>28.880</td>\n",
       "      <td>0</td>\n",
       "      <td>no</td>\n",
       "      <td>northwest</td>\n",
       "      <td>3866.85520</td>\n",
       "    </tr>\n",
       "    <tr>\n",
       "      <th>5</th>\n",
       "      <td>31</td>\n",
       "      <td>female</td>\n",
       "      <td>25.740</td>\n",
       "      <td>0</td>\n",
       "      <td>no</td>\n",
       "      <td>southeast</td>\n",
       "      <td>3756.62160</td>\n",
       "    </tr>\n",
       "    <tr>\n",
       "      <th>6</th>\n",
       "      <td>46</td>\n",
       "      <td>female</td>\n",
       "      <td>33.440</td>\n",
       "      <td>1</td>\n",
       "      <td>no</td>\n",
       "      <td>southeast</td>\n",
       "      <td>8240.58960</td>\n",
       "    </tr>\n",
       "    <tr>\n",
       "      <th>7</th>\n",
       "      <td>37</td>\n",
       "      <td>female</td>\n",
       "      <td>27.740</td>\n",
       "      <td>3</td>\n",
       "      <td>no</td>\n",
       "      <td>northwest</td>\n",
       "      <td>7281.50560</td>\n",
       "    </tr>\n",
       "    <tr>\n",
       "      <th>8</th>\n",
       "      <td>37</td>\n",
       "      <td>male</td>\n",
       "      <td>29.830</td>\n",
       "      <td>2</td>\n",
       "      <td>no</td>\n",
       "      <td>northeast</td>\n",
       "      <td>6406.41070</td>\n",
       "    </tr>\n",
       "    <tr>\n",
       "      <th>9</th>\n",
       "      <td>60</td>\n",
       "      <td>female</td>\n",
       "      <td>25.840</td>\n",
       "      <td>0</td>\n",
       "      <td>no</td>\n",
       "      <td>northwest</td>\n",
       "      <td>28923.13692</td>\n",
       "    </tr>\n",
       "  </tbody>\n",
       "</table>\n",
       "</div>"
      ],
      "text/plain": [
       "   age     sex     bmi  children smoker     region      charges\n",
       "0   19  female  27.900         0    yes  southwest  16884.92400\n",
       "1   18    male  33.770         1     no  southeast   1725.55230\n",
       "2   28    male  33.000         3     no  southeast   4449.46200\n",
       "3   33    male  22.705         0     no  northwest  21984.47061\n",
       "4   32    male  28.880         0     no  northwest   3866.85520\n",
       "5   31  female  25.740         0     no  southeast   3756.62160\n",
       "6   46  female  33.440         1     no  southeast   8240.58960\n",
       "7   37  female  27.740         3     no  northwest   7281.50560\n",
       "8   37    male  29.830         2     no  northeast   6406.41070\n",
       "9   60  female  25.840         0     no  northwest  28923.13692"
      ]
     },
     "execution_count": 2,
     "metadata": {},
     "output_type": "execute_result"
    }
   ],
   "source": [
    "df = pd.read_csv('/kaggle/input/medical-insurance-price-prediction/Medical_insurance.csv')\n",
    "df.head(10)"
   ]
  },
  {
   "cell_type": "code",
   "execution_count": 3,
   "id": "1a277b3f",
   "metadata": {
    "execution": {
     "iopub.execute_input": "2024-01-26T14:39:50.122913Z",
     "iopub.status.busy": "2024-01-26T14:39:50.122451Z",
     "iopub.status.idle": "2024-01-26T14:39:50.131765Z",
     "shell.execute_reply": "2024-01-26T14:39:50.130906Z"
    },
    "papermill": {
     "duration": 0.017009,
     "end_time": "2024-01-26T14:39:50.134137",
     "exception": false,
     "start_time": "2024-01-26T14:39:50.117128",
     "status": "completed"
    },
    "tags": []
   },
   "outputs": [],
   "source": [
    "# replace the '?' entries with NaN values\n",
    "df.replace('?',np.nan, inplace=True)"
   ]
  },
  {
   "cell_type": "markdown",
   "id": "6e9164f3",
   "metadata": {
    "papermill": {
     "duration": 0.003926,
     "end_time": "2024-01-26T14:39:50.142005",
     "exception": false,
     "start_time": "2024-01-26T14:39:50.138079",
     "status": "completed"
    },
    "tags": []
   },
   "source": [
    "# **Data Wrangling**"
   ]
  },
  {
   "cell_type": "code",
   "execution_count": 4,
   "id": "02040dcb",
   "metadata": {
    "execution": {
     "iopub.execute_input": "2024-01-26T14:39:50.152186Z",
     "iopub.status.busy": "2024-01-26T14:39:50.151511Z",
     "iopub.status.idle": "2024-01-26T14:39:50.179751Z",
     "shell.execute_reply": "2024-01-26T14:39:50.178619Z"
    },
    "papermill": {
     "duration": 0.036491,
     "end_time": "2024-01-26T14:39:50.182480",
     "exception": false,
     "start_time": "2024-01-26T14:39:50.145989",
     "status": "completed"
    },
    "tags": []
   },
   "outputs": [
    {
     "name": "stdout",
     "output_type": "stream",
     "text": [
      "<class 'pandas.core.frame.DataFrame'>\n",
      "RangeIndex: 2772 entries, 0 to 2771\n",
      "Data columns (total 7 columns):\n",
      " #   Column    Non-Null Count  Dtype  \n",
      "---  ------    --------------  -----  \n",
      " 0   age       2772 non-null   int64  \n",
      " 1   sex       2772 non-null   object \n",
      " 2   bmi       2772 non-null   float64\n",
      " 3   children  2772 non-null   int64  \n",
      " 4   smoker    2772 non-null   object \n",
      " 5   region    2772 non-null   object \n",
      " 6   charges   2772 non-null   float64\n",
      "dtypes: float64(2), int64(2), object(3)\n",
      "memory usage: 151.7+ KB\n"
     ]
    }
   ],
   "source": [
    "#using info() to identify the columns that have some Null\n",
    "df.info()"
   ]
  },
  {
   "cell_type": "markdown",
   "id": "37f393a1",
   "metadata": {
    "papermill": {
     "duration": 0.003698,
     "end_time": "2024-01-26T14:39:50.190279",
     "exception": false,
     "start_time": "2024-01-26T14:39:50.186581",
     "status": "completed"
    },
    "tags": []
   },
   "source": [
    "handling missing data:\n",
    "* for continuous attributes (eg: age) replace missing values with the mean\n",
    "* for categorical attributes(eg: smoker) replace missing values with the most frequent value\n",
    "* update the data type of the respective columns\n",
    "* verify the update using info()"
   ]
  },
  {
   "cell_type": "code",
   "execution_count": 5,
   "id": "f63a375f",
   "metadata": {
    "execution": {
     "iopub.execute_input": "2024-01-26T14:39:50.200572Z",
     "iopub.status.busy": "2024-01-26T14:39:50.199392Z",
     "iopub.status.idle": "2024-01-26T14:39:50.224102Z",
     "shell.execute_reply": "2024-01-26T14:39:50.222321Z"
    },
    "papermill": {
     "duration": 0.033073,
     "end_time": "2024-01-26T14:39:50.227246",
     "exception": false,
     "start_time": "2024-01-26T14:39:50.194173",
     "status": "completed"
    },
    "tags": []
   },
   "outputs": [
    {
     "name": "stdout",
     "output_type": "stream",
     "text": [
      "Error converting 'smoker' column to int: invalid literal for int() with base 10: 'yes'\n",
      "<class 'pandas.core.frame.DataFrame'>\n",
      "RangeIndex: 2772 entries, 0 to 2771\n",
      "Data columns (total 7 columns):\n",
      " #   Column    Non-Null Count  Dtype  \n",
      "---  ------    --------------  -----  \n",
      " 0   age       2772 non-null   int64  \n",
      " 1   sex       2772 non-null   object \n",
      " 2   bmi       2772 non-null   float64\n",
      " 3   children  2772 non-null   int64  \n",
      " 4   smoker    2772 non-null   object \n",
      " 5   region    2772 non-null   object \n",
      " 6   charges   2772 non-null   float64\n",
      "dtypes: float64(2), int64(2), object(3)\n",
      "memory usage: 151.7+ KB\n",
      "None\n"
     ]
    }
   ],
   "source": [
    "# smoker is a categorical attribute, replace with most frequent entry\n",
    "is_smoker = df['smoker'].value_counts().idxmax()\n",
    "df[\"smoker\"].replace(np.nan, is_smoker, inplace=True)\n",
    "\n",
    "# age is a continuous variable, replace with mean age\n",
    "mean_age = df['age'].astype('float').mean(axis=0)\n",
    "df[\"age\"].replace(np.nan, mean_age, inplace=True)\n",
    "\n",
    "# Update data types\n",
    "df[\"age\"] = df[\"age\"].astype(int)\n",
    "\n",
    "try:\n",
    "   df[\"smoker\"] = df[\"smoker\"].astype(int)\n",
    "except ValueError as e:\n",
    "    print(f\"Error converting 'smoker' column to int: {e}\")\n",
    "\n",
    "#df[[\"age\",\"smoker\"]] = df[[\"age\",\"smoker\"]].astype(\"int\")\n",
    "\n",
    "print(df.info())"
   ]
  }
 ],
 "metadata": {
  "kaggle": {
   "accelerator": "none",
   "dataSources": [
    {
     "datasetId": 3435279,
     "sourceId": 5995753,
     "sourceType": "datasetVersion"
    }
   ],
   "dockerImageVersionId": 30635,
   "isGpuEnabled": false,
   "isInternetEnabled": true,
   "language": "python",
   "sourceType": "notebook"
  },
  "kernelspec": {
   "display_name": "Python 3",
   "language": "python",
   "name": "python3"
  },
  "language_info": {
   "codemirror_mode": {
    "name": "ipython",
    "version": 3
   },
   "file_extension": ".py",
   "mimetype": "text/x-python",
   "name": "python",
   "nbconvert_exporter": "python",
   "pygments_lexer": "ipython3",
   "version": "3.10.12"
  },
  "papermill": {
   "default_parameters": {},
   "duration": 7.134568,
   "end_time": "2024-01-26T14:39:50.957517",
   "environment_variables": {},
   "exception": null,
   "input_path": "__notebook__.ipynb",
   "output_path": "__notebook__.ipynb",
   "parameters": {},
   "start_time": "2024-01-26T14:39:43.822949",
   "version": "2.4.0"
  }
 },
 "nbformat": 4,
 "nbformat_minor": 5
}
