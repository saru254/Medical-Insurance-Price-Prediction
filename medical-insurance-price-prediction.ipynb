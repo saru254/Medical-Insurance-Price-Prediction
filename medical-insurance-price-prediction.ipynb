{
 "cells": [
  {
   "cell_type": "markdown",
   "id": "1864bc1c",
   "metadata": {
    "_cell_guid": "b1076dfc-b9ad-4769-8c92-a6c4dae69d19",
    "_uuid": "8f2839f25d086af736a60e9eeb907d3b93b6e0e5",
    "papermill": {
     "duration": 0.004658,
     "end_time": "2024-01-26T14:41:32.548621",
     "exception": false,
     "start_time": "2024-01-26T14:41:32.543963",
     "status": "completed"
    },
    "tags": []
   },
   "source": [
    "# **Objectives**\n",
    "in this project, you will:\n",
    "* load the data as a pandas dataframe\n",
    "* cleann the data, taking care of the blank entries\n",
    "* run exploratory data analysis(EDA) and identify the attributes that most affect the charges\n",
    "* develop single variable and multi-variable Linear Regression Models for predictinf the charges\n",
    "* Use Ridge regression to refine the performance of Linear regression models"
   ]
  },
  {
   "cell_type": "code",
   "execution_count": 1,
   "id": "63c337bc",
   "metadata": {
    "execution": {
     "iopub.execute_input": "2024-01-26T14:41:32.558655Z",
     "iopub.status.busy": "2024-01-26T14:41:32.557921Z",
     "iopub.status.idle": "2024-01-26T14:41:34.734269Z",
     "shell.execute_reply": "2024-01-26T14:41:34.733071Z"
    },
    "papermill": {
     "duration": 2.184712,
     "end_time": "2024-01-26T14:41:34.737343",
     "exception": false,
     "start_time": "2024-01-26T14:41:32.552631",
     "status": "completed"
    },
    "tags": []
   },
   "outputs": [],
   "source": [
    "#import the libraries\n",
    "import pandas as pd\n",
    "import numpy as np\n",
    "import matplotlib.pyplot as plt\n",
    "import seaborn as sns\n",
    "from sklearn.pipeline import Pipeline\n",
    "from sklearn.preprocessing import StandardScaler, PolynomialFeatures\n",
    "from sklearn.linear_model import LinearRegression, Ridge\n",
    "from sklearn.metrics import mean_squared_error, r2_score\n",
    "from sklearn.model_selection import cross_val_score, train_test_split"
   ]
  },
  {
   "cell_type": "code",
   "execution_count": 2,
   "id": "2911315f",
   "metadata": {
    "execution": {
     "iopub.execute_input": "2024-01-26T14:41:34.746647Z",
     "iopub.status.busy": "2024-01-26T14:41:34.746056Z",
     "iopub.status.idle": "2024-01-26T14:41:34.793917Z",
     "shell.execute_reply": "2024-01-26T14:41:34.792821Z"
    },
    "papermill": {
     "duration": 0.055242,
     "end_time": "2024-01-26T14:41:34.796383",
     "exception": false,
     "start_time": "2024-01-26T14:41:34.741141",
     "status": "completed"
    },
    "tags": []
   },
   "outputs": [
    {
     "data": {
      "text/html": [
       "<div>\n",
       "<style scoped>\n",
       "    .dataframe tbody tr th:only-of-type {\n",
       "        vertical-align: middle;\n",
       "    }\n",
       "\n",
       "    .dataframe tbody tr th {\n",
       "        vertical-align: top;\n",
       "    }\n",
       "\n",
       "    .dataframe thead th {\n",
       "        text-align: right;\n",
       "    }\n",
       "</style>\n",
       "<table border=\"1\" class=\"dataframe\">\n",
       "  <thead>\n",
       "    <tr style=\"text-align: right;\">\n",
       "      <th></th>\n",
       "      <th>age</th>\n",
       "      <th>sex</th>\n",
       "      <th>bmi</th>\n",
       "      <th>children</th>\n",
       "      <th>smoker</th>\n",
       "      <th>region</th>\n",
       "      <th>charges</th>\n",
       "    </tr>\n",
       "  </thead>\n",
       "  <tbody>\n",
       "    <tr>\n",
       "      <th>0</th>\n",
       "      <td>19</td>\n",
       "      <td>female</td>\n",
       "      <td>27.900</td>\n",
       "      <td>0</td>\n",
       "      <td>yes</td>\n",
       "      <td>southwest</td>\n",
       "      <td>16884.92400</td>\n",
       "    </tr>\n",
       "    <tr>\n",
       "      <th>1</th>\n",
       "      <td>18</td>\n",
       "      <td>male</td>\n",
       "      <td>33.770</td>\n",
       "      <td>1</td>\n",
       "      <td>no</td>\n",
       "      <td>southeast</td>\n",
       "      <td>1725.55230</td>\n",
       "    </tr>\n",
       "    <tr>\n",
       "      <th>2</th>\n",
       "      <td>28</td>\n",
       "      <td>male</td>\n",
       "      <td>33.000</td>\n",
       "      <td>3</td>\n",
       "      <td>no</td>\n",
       "      <td>southeast</td>\n",
       "      <td>4449.46200</td>\n",
       "    </tr>\n",
       "    <tr>\n",
       "      <th>3</th>\n",
       "      <td>33</td>\n",
       "      <td>male</td>\n",
       "      <td>22.705</td>\n",
       "      <td>0</td>\n",
       "      <td>no</td>\n",
       "      <td>northwest</td>\n",
       "      <td>21984.47061</td>\n",
       "    </tr>\n",
       "    <tr>\n",
       "      <th>4</th>\n",
       "      <td>32</td>\n",
       "      <td>male</td>\n",
       "      <td>28.880</td>\n",
       "      <td>0</td>\n",
       "      <td>no</td>\n",
       "      <td>northwest</td>\n",
       "      <td>3866.85520</td>\n",
       "    </tr>\n",
       "    <tr>\n",
       "      <th>5</th>\n",
       "      <td>31</td>\n",
       "      <td>female</td>\n",
       "      <td>25.740</td>\n",
       "      <td>0</td>\n",
       "      <td>no</td>\n",
       "      <td>southeast</td>\n",
       "      <td>3756.62160</td>\n",
       "    </tr>\n",
       "    <tr>\n",
       "      <th>6</th>\n",
       "      <td>46</td>\n",
       "      <td>female</td>\n",
       "      <td>33.440</td>\n",
       "      <td>1</td>\n",
       "      <td>no</td>\n",
       "      <td>southeast</td>\n",
       "      <td>8240.58960</td>\n",
       "    </tr>\n",
       "    <tr>\n",
       "      <th>7</th>\n",
       "      <td>37</td>\n",
       "      <td>female</td>\n",
       "      <td>27.740</td>\n",
       "      <td>3</td>\n",
       "      <td>no</td>\n",
       "      <td>northwest</td>\n",
       "      <td>7281.50560</td>\n",
       "    </tr>\n",
       "    <tr>\n",
       "      <th>8</th>\n",
       "      <td>37</td>\n",
       "      <td>male</td>\n",
       "      <td>29.830</td>\n",
       "      <td>2</td>\n",
       "      <td>no</td>\n",
       "      <td>northeast</td>\n",
       "      <td>6406.41070</td>\n",
       "    </tr>\n",
       "    <tr>\n",
       "      <th>9</th>\n",
       "      <td>60</td>\n",
       "      <td>female</td>\n",
       "      <td>25.840</td>\n",
       "      <td>0</td>\n",
       "      <td>no</td>\n",
       "      <td>northwest</td>\n",
       "      <td>28923.13692</td>\n",
       "    </tr>\n",
       "  </tbody>\n",
       "</table>\n",
       "</div>"
      ],
      "text/plain": [
       "   age     sex     bmi  children smoker     region      charges\n",
       "0   19  female  27.900         0    yes  southwest  16884.92400\n",
       "1   18    male  33.770         1     no  southeast   1725.55230\n",
       "2   28    male  33.000         3     no  southeast   4449.46200\n",
       "3   33    male  22.705         0     no  northwest  21984.47061\n",
       "4   32    male  28.880         0     no  northwest   3866.85520\n",
       "5   31  female  25.740         0     no  southeast   3756.62160\n",
       "6   46  female  33.440         1     no  southeast   8240.58960\n",
       "7   37  female  27.740         3     no  northwest   7281.50560\n",
       "8   37    male  29.830         2     no  northeast   6406.41070\n",
       "9   60  female  25.840         0     no  northwest  28923.13692"
      ]
     },
     "execution_count": 2,
     "metadata": {},
     "output_type": "execute_result"
    }
   ],
   "source": [
    "df = pd.read_csv('/kaggle/input/medical-insurance-price-prediction/Medical_insurance.csv')\n",
    "df.head(10)"
   ]
  },
  {
   "cell_type": "code",
   "execution_count": 3,
   "id": "2eab22e6",
   "metadata": {
    "execution": {
     "iopub.execute_input": "2024-01-26T14:41:34.806421Z",
     "iopub.status.busy": "2024-01-26T14:41:34.805996Z",
     "iopub.status.idle": "2024-01-26T14:41:34.814552Z",
     "shell.execute_reply": "2024-01-26T14:41:34.813440Z"
    },
    "papermill": {
     "duration": 0.016336,
     "end_time": "2024-01-26T14:41:34.817068",
     "exception": false,
     "start_time": "2024-01-26T14:41:34.800732",
     "status": "completed"
    },
    "tags": []
   },
   "outputs": [],
   "source": [
    "# replace the '?' entries with NaN values\n",
    "df.replace('?',np.nan, inplace=True)"
   ]
  },
  {
   "cell_type": "markdown",
   "id": "aa528540",
   "metadata": {
    "papermill": {
     "duration": 0.003774,
     "end_time": "2024-01-26T14:41:34.825102",
     "exception": false,
     "start_time": "2024-01-26T14:41:34.821328",
     "status": "completed"
    },
    "tags": []
   },
   "source": [
    "# **Data Wrangling**"
   ]
  },
  {
   "cell_type": "code",
   "execution_count": 4,
   "id": "6caf155d",
   "metadata": {
    "execution": {
     "iopub.execute_input": "2024-01-26T14:41:34.834830Z",
     "iopub.status.busy": "2024-01-26T14:41:34.834407Z",
     "iopub.status.idle": "2024-01-26T14:41:34.861445Z",
     "shell.execute_reply": "2024-01-26T14:41:34.860081Z"
    },
    "papermill": {
     "duration": 0.034712,
     "end_time": "2024-01-26T14:41:34.863803",
     "exception": false,
     "start_time": "2024-01-26T14:41:34.829091",
     "status": "completed"
    },
    "tags": []
   },
   "outputs": [
    {
     "name": "stdout",
     "output_type": "stream",
     "text": [
      "<class 'pandas.core.frame.DataFrame'>\n",
      "RangeIndex: 2772 entries, 0 to 2771\n",
      "Data columns (total 7 columns):\n",
      " #   Column    Non-Null Count  Dtype  \n",
      "---  ------    --------------  -----  \n",
      " 0   age       2772 non-null   int64  \n",
      " 1   sex       2772 non-null   object \n",
      " 2   bmi       2772 non-null   float64\n",
      " 3   children  2772 non-null   int64  \n",
      " 4   smoker    2772 non-null   object \n",
      " 5   region    2772 non-null   object \n",
      " 6   charges   2772 non-null   float64\n",
      "dtypes: float64(2), int64(2), object(3)\n",
      "memory usage: 151.7+ KB\n"
     ]
    }
   ],
   "source": [
    "#using info() to identify the columns that have some Null\n",
    "df.info()"
   ]
  },
  {
   "cell_type": "markdown",
   "id": "26d33f8a",
   "metadata": {
    "papermill": {
     "duration": 0.003896,
     "end_time": "2024-01-26T14:41:34.871896",
     "exception": false,
     "start_time": "2024-01-26T14:41:34.868000",
     "status": "completed"
    },
    "tags": []
   },
   "source": [
    "handling missing data:\n",
    "* for continuous attributes (eg: age) replace missing values with the mean\n",
    "* for categorical attributes(eg: smoker) replace missing values with the most frequent value\n",
    "* update the data type of the respective columns\n",
    "* verify the update using info()"
   ]
  },
  {
   "cell_type": "code",
   "execution_count": 5,
   "id": "0b65c3ed",
   "metadata": {
    "execution": {
     "iopub.execute_input": "2024-01-26T14:41:34.881789Z",
     "iopub.status.busy": "2024-01-26T14:41:34.881376Z",
     "iopub.status.idle": "2024-01-26T14:41:34.903545Z",
     "shell.execute_reply": "2024-01-26T14:41:34.901887Z"
    },
    "papermill": {
     "duration": 0.030308,
     "end_time": "2024-01-26T14:41:34.906232",
     "exception": false,
     "start_time": "2024-01-26T14:41:34.875924",
     "status": "completed"
    },
    "tags": []
   },
   "outputs": [
    {
     "name": "stdout",
     "output_type": "stream",
     "text": [
      "Error converting 'smoker' column to int: invalid literal for int() with base 10: 'yes'\n",
      "<class 'pandas.core.frame.DataFrame'>\n",
      "RangeIndex: 2772 entries, 0 to 2771\n",
      "Data columns (total 7 columns):\n",
      " #   Column    Non-Null Count  Dtype  \n",
      "---  ------    --------------  -----  \n",
      " 0   age       2772 non-null   int64  \n",
      " 1   sex       2772 non-null   object \n",
      " 2   bmi       2772 non-null   float64\n",
      " 3   children  2772 non-null   int64  \n",
      " 4   smoker    2772 non-null   object \n",
      " 5   region    2772 non-null   object \n",
      " 6   charges   2772 non-null   float64\n",
      "dtypes: float64(2), int64(2), object(3)\n",
      "memory usage: 151.7+ KB\n",
      "None\n"
     ]
    }
   ],
   "source": [
    "# smoker is a categorical attribute, replace with most frequent entry\n",
    "is_smoker = df['smoker'].value_counts().idxmax()\n",
    "df[\"smoker\"].replace(np.nan, is_smoker, inplace=True)\n",
    "\n",
    "# age is a continuous variable, replace with mean age\n",
    "mean_age = df['age'].astype('float').mean(axis=0)\n",
    "df[\"age\"].replace(np.nan, mean_age, inplace=True)\n",
    "\n",
    "# Update data types\n",
    "df[\"age\"] = df[\"age\"].astype(int)\n",
    "\n",
    "try:\n",
    "   df[\"smoker\"] = df[\"smoker\"].astype(int)\n",
    "except ValueError as e:\n",
    "    print(f\"Error converting 'smoker' column to int: {e}\")\n",
    "\n",
    "#df[[\"age\",\"smoker\"]] = df[[\"age\",\"smoker\"]].astype(\"int\")\n",
    "\n",
    "print(df.info())"
   ]
  },
  {
   "cell_type": "code",
   "execution_count": 6,
   "id": "f14c24ec",
   "metadata": {
    "execution": {
     "iopub.execute_input": "2024-01-26T14:41:34.917199Z",
     "iopub.status.busy": "2024-01-26T14:41:34.916782Z",
     "iopub.status.idle": "2024-01-26T14:41:34.928788Z",
     "shell.execute_reply": "2024-01-26T14:41:34.927544Z"
    },
    "papermill": {
     "duration": 0.020826,
     "end_time": "2024-01-26T14:41:34.931790",
     "exception": false,
     "start_time": "2024-01-26T14:41:34.910964",
     "status": "completed"
    },
    "tags": []
   },
   "outputs": [
    {
     "name": "stdout",
     "output_type": "stream",
     "text": [
      "   age     sex     bmi  children smoker     region   charges\n",
      "0   19  female  27.900         0    yes  southwest  16884.92\n",
      "1   18    male  33.770         1     no  southeast   1725.55\n",
      "2   28    male  33.000         3     no  southeast   4449.46\n",
      "3   33    male  22.705         0     no  northwest  21984.47\n",
      "4   32    male  28.880         0     no  northwest   3866.86\n"
     ]
    }
   ],
   "source": [
    "#update the charges column such that all values are rounded to nearest 2dp\n",
    "df[['charges']] = np.round(df[[\"charges\"]],2)\n",
    "print(df.head())"
   ]
  }
 ],
 "metadata": {
  "kaggle": {
   "accelerator": "none",
   "dataSources": [
    {
     "datasetId": 3435279,
     "sourceId": 5995753,
     "sourceType": "datasetVersion"
    }
   ],
   "dockerImageVersionId": 30635,
   "isGpuEnabled": false,
   "isInternetEnabled": true,
   "language": "python",
   "sourceType": "notebook"
  },
  "kernelspec": {
   "display_name": "Python 3",
   "language": "python",
   "name": "python3"
  },
  "language_info": {
   "codemirror_mode": {
    "name": "ipython",
    "version": 3
   },
   "file_extension": ".py",
   "mimetype": "text/x-python",
   "name": "python",
   "nbconvert_exporter": "python",
   "pygments_lexer": "ipython3",
   "version": "3.10.12"
  },
  "papermill": {
   "default_parameters": {},
   "duration": 6.346051,
   "end_time": "2024-01-26T14:41:35.556294",
   "environment_variables": {},
   "exception": null,
   "input_path": "__notebook__.ipynb",
   "output_path": "__notebook__.ipynb",
   "parameters": {},
   "start_time": "2024-01-26T14:41:29.210243",
   "version": "2.4.0"
  }
 },
 "nbformat": 4,
 "nbformat_minor": 5
}
