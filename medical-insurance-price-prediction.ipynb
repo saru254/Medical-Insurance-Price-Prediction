{
 "cells": [
  {
   "cell_type": "markdown",
   "id": "e4a1f198",
   "metadata": {
    "_cell_guid": "b1076dfc-b9ad-4769-8c92-a6c4dae69d19",
    "_uuid": "8f2839f25d086af736a60e9eeb907d3b93b6e0e5",
    "papermill": {
     "duration": 0.007382,
     "end_time": "2024-01-26T17:04:34.250579",
     "exception": false,
     "start_time": "2024-01-26T17:04:34.243197",
     "status": "completed"
    },
    "tags": []
   },
   "source": [
    "# **Objectives**\n",
    "in this project, you will:\n",
    "* load the data as a pandas dataframe\n",
    "* cleann the data, taking care of the blank entries\n",
    "* run exploratory data analysis(EDA) and identify the attributes that most affect the charges\n",
    "* develop single variable and multi-variable Linear Regression Models for predictinf the charges\n",
    "* Use Ridge regression to refine the performance of Linear regression models"
   ]
  },
  {
   "cell_type": "code",
   "execution_count": 1,
   "id": "73622941",
   "metadata": {
    "execution": {
     "iopub.execute_input": "2024-01-26T17:04:34.267353Z",
     "iopub.status.busy": "2024-01-26T17:04:34.266388Z",
     "iopub.status.idle": "2024-01-26T17:04:36.499613Z",
     "shell.execute_reply": "2024-01-26T17:04:36.498373Z"
    },
    "papermill": {
     "duration": 2.245575,
     "end_time": "2024-01-26T17:04:36.503220",
     "exception": false,
     "start_time": "2024-01-26T17:04:34.257645",
     "status": "completed"
    },
    "tags": []
   },
   "outputs": [],
   "source": [
    "#import the libraries\n",
    "import pandas as pd\n",
    "import numpy as np\n",
    "import matplotlib.pyplot as plt\n",
    "import seaborn as sns\n",
    "from sklearn.pipeline import Pipeline\n",
    "from sklearn.compose import ColumnTransformer \n",
    "from sklearn.preprocessing import StandardScaler, PolynomialFeatures, OneHotEncoder\n",
    "from sklearn.linear_model import LinearRegression, Ridge\n",
    "from sklearn.metrics import mean_squared_error, r2_score\n",
    "from sklearn.model_selection import cross_val_score, train_test_split"
   ]
  },
  {
   "cell_type": "code",
   "execution_count": 2,
   "id": "7d9e6f3f",
   "metadata": {
    "execution": {
     "iopub.execute_input": "2024-01-26T17:04:36.519907Z",
     "iopub.status.busy": "2024-01-26T17:04:36.518576Z",
     "iopub.status.idle": "2024-01-26T17:04:36.571424Z",
     "shell.execute_reply": "2024-01-26T17:04:36.569998Z"
    },
    "papermill": {
     "duration": 0.064143,
     "end_time": "2024-01-26T17:04:36.574417",
     "exception": false,
     "start_time": "2024-01-26T17:04:36.510274",
     "status": "completed"
    },
    "tags": []
   },
   "outputs": [
    {
     "data": {
      "text/html": [
       "<div>\n",
       "<style scoped>\n",
       "    .dataframe tbody tr th:only-of-type {\n",
       "        vertical-align: middle;\n",
       "    }\n",
       "\n",
       "    .dataframe tbody tr th {\n",
       "        vertical-align: top;\n",
       "    }\n",
       "\n",
       "    .dataframe thead th {\n",
       "        text-align: right;\n",
       "    }\n",
       "</style>\n",
       "<table border=\"1\" class=\"dataframe\">\n",
       "  <thead>\n",
       "    <tr style=\"text-align: right;\">\n",
       "      <th></th>\n",
       "      <th>age</th>\n",
       "      <th>sex</th>\n",
       "      <th>bmi</th>\n",
       "      <th>children</th>\n",
       "      <th>smoker</th>\n",
       "      <th>region</th>\n",
       "      <th>charges</th>\n",
       "    </tr>\n",
       "  </thead>\n",
       "  <tbody>\n",
       "    <tr>\n",
       "      <th>0</th>\n",
       "      <td>19</td>\n",
       "      <td>female</td>\n",
       "      <td>27.900</td>\n",
       "      <td>0</td>\n",
       "      <td>yes</td>\n",
       "      <td>southwest</td>\n",
       "      <td>16884.92400</td>\n",
       "    </tr>\n",
       "    <tr>\n",
       "      <th>1</th>\n",
       "      <td>18</td>\n",
       "      <td>male</td>\n",
       "      <td>33.770</td>\n",
       "      <td>1</td>\n",
       "      <td>no</td>\n",
       "      <td>southeast</td>\n",
       "      <td>1725.55230</td>\n",
       "    </tr>\n",
       "    <tr>\n",
       "      <th>2</th>\n",
       "      <td>28</td>\n",
       "      <td>male</td>\n",
       "      <td>33.000</td>\n",
       "      <td>3</td>\n",
       "      <td>no</td>\n",
       "      <td>southeast</td>\n",
       "      <td>4449.46200</td>\n",
       "    </tr>\n",
       "    <tr>\n",
       "      <th>3</th>\n",
       "      <td>33</td>\n",
       "      <td>male</td>\n",
       "      <td>22.705</td>\n",
       "      <td>0</td>\n",
       "      <td>no</td>\n",
       "      <td>northwest</td>\n",
       "      <td>21984.47061</td>\n",
       "    </tr>\n",
       "    <tr>\n",
       "      <th>4</th>\n",
       "      <td>32</td>\n",
       "      <td>male</td>\n",
       "      <td>28.880</td>\n",
       "      <td>0</td>\n",
       "      <td>no</td>\n",
       "      <td>northwest</td>\n",
       "      <td>3866.85520</td>\n",
       "    </tr>\n",
       "    <tr>\n",
       "      <th>5</th>\n",
       "      <td>31</td>\n",
       "      <td>female</td>\n",
       "      <td>25.740</td>\n",
       "      <td>0</td>\n",
       "      <td>no</td>\n",
       "      <td>southeast</td>\n",
       "      <td>3756.62160</td>\n",
       "    </tr>\n",
       "    <tr>\n",
       "      <th>6</th>\n",
       "      <td>46</td>\n",
       "      <td>female</td>\n",
       "      <td>33.440</td>\n",
       "      <td>1</td>\n",
       "      <td>no</td>\n",
       "      <td>southeast</td>\n",
       "      <td>8240.58960</td>\n",
       "    </tr>\n",
       "    <tr>\n",
       "      <th>7</th>\n",
       "      <td>37</td>\n",
       "      <td>female</td>\n",
       "      <td>27.740</td>\n",
       "      <td>3</td>\n",
       "      <td>no</td>\n",
       "      <td>northwest</td>\n",
       "      <td>7281.50560</td>\n",
       "    </tr>\n",
       "    <tr>\n",
       "      <th>8</th>\n",
       "      <td>37</td>\n",
       "      <td>male</td>\n",
       "      <td>29.830</td>\n",
       "      <td>2</td>\n",
       "      <td>no</td>\n",
       "      <td>northeast</td>\n",
       "      <td>6406.41070</td>\n",
       "    </tr>\n",
       "    <tr>\n",
       "      <th>9</th>\n",
       "      <td>60</td>\n",
       "      <td>female</td>\n",
       "      <td>25.840</td>\n",
       "      <td>0</td>\n",
       "      <td>no</td>\n",
       "      <td>northwest</td>\n",
       "      <td>28923.13692</td>\n",
       "    </tr>\n",
       "  </tbody>\n",
       "</table>\n",
       "</div>"
      ],
      "text/plain": [
       "   age     sex     bmi  children smoker     region      charges\n",
       "0   19  female  27.900         0    yes  southwest  16884.92400\n",
       "1   18    male  33.770         1     no  southeast   1725.55230\n",
       "2   28    male  33.000         3     no  southeast   4449.46200\n",
       "3   33    male  22.705         0     no  northwest  21984.47061\n",
       "4   32    male  28.880         0     no  northwest   3866.85520\n",
       "5   31  female  25.740         0     no  southeast   3756.62160\n",
       "6   46  female  33.440         1     no  southeast   8240.58960\n",
       "7   37  female  27.740         3     no  northwest   7281.50560\n",
       "8   37    male  29.830         2     no  northeast   6406.41070\n",
       "9   60  female  25.840         0     no  northwest  28923.13692"
      ]
     },
     "execution_count": 2,
     "metadata": {},
     "output_type": "execute_result"
    }
   ],
   "source": [
    "df = pd.read_csv('/kaggle/input/medical-insurance-price-prediction/Medical_insurance.csv')\n",
    "df.head(10)"
   ]
  },
  {
   "cell_type": "code",
   "execution_count": 3,
   "id": "7ea895fb",
   "metadata": {
    "execution": {
     "iopub.execute_input": "2024-01-26T17:04:36.591783Z",
     "iopub.status.busy": "2024-01-26T17:04:36.590565Z",
     "iopub.status.idle": "2024-01-26T17:04:36.599666Z",
     "shell.execute_reply": "2024-01-26T17:04:36.598451Z"
    },
    "papermill": {
     "duration": 0.020642,
     "end_time": "2024-01-26T17:04:36.602320",
     "exception": false,
     "start_time": "2024-01-26T17:04:36.581678",
     "status": "completed"
    },
    "tags": []
   },
   "outputs": [],
   "source": [
    "# replace the '?' entries with NaN values\n",
    "df.replace('?',np.nan, inplace=True)"
   ]
  },
  {
   "cell_type": "markdown",
   "id": "2bb72ad6",
   "metadata": {
    "papermill": {
     "duration": 0.006806,
     "end_time": "2024-01-26T17:04:36.616509",
     "exception": false,
     "start_time": "2024-01-26T17:04:36.609703",
     "status": "completed"
    },
    "tags": []
   },
   "source": [
    "# **Data Wrangling**"
   ]
  },
  {
   "cell_type": "code",
   "execution_count": 4,
   "id": "6259cf1e",
   "metadata": {
    "execution": {
     "iopub.execute_input": "2024-01-26T17:04:36.633089Z",
     "iopub.status.busy": "2024-01-26T17:04:36.632692Z",
     "iopub.status.idle": "2024-01-26T17:04:36.661604Z",
     "shell.execute_reply": "2024-01-26T17:04:36.660573Z"
    },
    "papermill": {
     "duration": 0.041217,
     "end_time": "2024-01-26T17:04:36.665101",
     "exception": false,
     "start_time": "2024-01-26T17:04:36.623884",
     "status": "completed"
    },
    "tags": []
   },
   "outputs": [
    {
     "name": "stdout",
     "output_type": "stream",
     "text": [
      "<class 'pandas.core.frame.DataFrame'>\n",
      "RangeIndex: 2772 entries, 0 to 2771\n",
      "Data columns (total 7 columns):\n",
      " #   Column    Non-Null Count  Dtype  \n",
      "---  ------    --------------  -----  \n",
      " 0   age       2772 non-null   int64  \n",
      " 1   sex       2772 non-null   object \n",
      " 2   bmi       2772 non-null   float64\n",
      " 3   children  2772 non-null   int64  \n",
      " 4   smoker    2772 non-null   object \n",
      " 5   region    2772 non-null   object \n",
      " 6   charges   2772 non-null   float64\n",
      "dtypes: float64(2), int64(2), object(3)\n",
      "memory usage: 151.7+ KB\n"
     ]
    }
   ],
   "source": [
    "#using info() to identify the columns that have some Null\n",
    "df.info()"
   ]
  },
  {
   "cell_type": "markdown",
   "id": "96d9acbb",
   "metadata": {
    "papermill": {
     "duration": 0.008042,
     "end_time": "2024-01-26T17:04:36.680772",
     "exception": false,
     "start_time": "2024-01-26T17:04:36.672730",
     "status": "completed"
    },
    "tags": []
   },
   "source": [
    "handling missing data:\n",
    "* for continuous attributes (eg: age) replace missing values with the mean\n",
    "* for categorical attributes(eg: smoker) replace missing values with the most frequent value\n",
    "* update the data type of the respective columns\n",
    "* verify the update using info()"
   ]
  },
  {
   "cell_type": "code",
   "execution_count": 5,
   "id": "3d637be0",
   "metadata": {
    "execution": {
     "iopub.execute_input": "2024-01-26T17:04:36.698138Z",
     "iopub.status.busy": "2024-01-26T17:04:36.697739Z",
     "iopub.status.idle": "2024-01-26T17:04:36.719837Z",
     "shell.execute_reply": "2024-01-26T17:04:36.718371Z"
    },
    "papermill": {
     "duration": 0.03397,
     "end_time": "2024-01-26T17:04:36.722383",
     "exception": false,
     "start_time": "2024-01-26T17:04:36.688413",
     "status": "completed"
    },
    "tags": []
   },
   "outputs": [
    {
     "name": "stdout",
     "output_type": "stream",
     "text": [
      "Error converting 'smoker' column to int: invalid literal for int() with base 10: 'yes'\n",
      "<class 'pandas.core.frame.DataFrame'>\n",
      "RangeIndex: 2772 entries, 0 to 2771\n",
      "Data columns (total 7 columns):\n",
      " #   Column    Non-Null Count  Dtype  \n",
      "---  ------    --------------  -----  \n",
      " 0   age       2772 non-null   int64  \n",
      " 1   sex       2772 non-null   object \n",
      " 2   bmi       2772 non-null   float64\n",
      " 3   children  2772 non-null   int64  \n",
      " 4   smoker    2772 non-null   object \n",
      " 5   region    2772 non-null   object \n",
      " 6   charges   2772 non-null   float64\n",
      "dtypes: float64(2), int64(2), object(3)\n",
      "memory usage: 151.7+ KB\n",
      "None\n"
     ]
    }
   ],
   "source": [
    "# smoker is a categorical attribute, replace with most frequent entry\n",
    "is_smoker = df['smoker'].value_counts().idxmax()\n",
    "df[\"smoker\"].replace(np.nan, is_smoker, inplace=True)\n",
    "\n",
    "# age is a continuous variable, replace with mean age\n",
    "mean_age = df['age'].astype('float').mean(axis=0)\n",
    "df[\"age\"].replace(np.nan, mean_age, inplace=True)\n",
    "\n",
    "# Update data types\n",
    "df[\"age\"] = df[\"age\"].astype(int)\n",
    "\n",
    "try:\n",
    "   df[\"smoker\"] = df[\"smoker\"].astype(int)\n",
    "except ValueError as e:\n",
    "    print(f\"Error converting 'smoker' column to int: {e}\")\n",
    "\n",
    "#df[[\"age\",\"smoker\"]] = df[[\"age\",\"smoker\"]].astype(\"int\")\n",
    "\n",
    "print(df.info())"
   ]
  },
  {
   "cell_type": "code",
   "execution_count": 6,
   "id": "f95e6ac7",
   "metadata": {
    "execution": {
     "iopub.execute_input": "2024-01-26T17:04:36.739101Z",
     "iopub.status.busy": "2024-01-26T17:04:36.738689Z",
     "iopub.status.idle": "2024-01-26T17:04:36.751698Z",
     "shell.execute_reply": "2024-01-26T17:04:36.750517Z"
    },
    "papermill": {
     "duration": 0.025052,
     "end_time": "2024-01-26T17:04:36.754979",
     "exception": false,
     "start_time": "2024-01-26T17:04:36.729927",
     "status": "completed"
    },
    "tags": []
   },
   "outputs": [
    {
     "name": "stdout",
     "output_type": "stream",
     "text": [
      "   age     sex     bmi  children smoker     region   charges\n",
      "0   19  female  27.900         0    yes  southwest  16884.92\n",
      "1   18    male  33.770         1     no  southeast   1725.55\n",
      "2   28    male  33.000         3     no  southeast   4449.46\n",
      "3   33    male  22.705         0     no  northwest  21984.47\n",
      "4   32    male  28.880         0     no  northwest   3866.86\n"
     ]
    }
   ],
   "source": [
    "#update the charges column such that all values are rounded to nearest 2dp\n",
    "df[['charges']] = np.round(df[[\"charges\"]],2)\n",
    "print(df.head())"
   ]
  },
  {
   "cell_type": "markdown",
   "id": "c97c868b",
   "metadata": {
    "papermill": {
     "duration": 0.007387,
     "end_time": "2024-01-26T17:04:36.769842",
     "exception": false,
     "start_time": "2024-01-26T17:04:36.762455",
     "status": "completed"
    },
    "tags": []
   },
   "source": [
    "# **Exploratory Data Analysis**"
   ]
  },
  {
   "cell_type": "code",
   "execution_count": 7,
   "id": "d97c92ea",
   "metadata": {
    "execution": {
     "iopub.execute_input": "2024-01-26T17:04:36.787031Z",
     "iopub.status.busy": "2024-01-26T17:04:36.786589Z",
     "iopub.status.idle": "2024-01-26T17:04:37.470995Z",
     "shell.execute_reply": "2024-01-26T17:04:37.469860Z"
    },
    "papermill": {
     "duration": 0.695935,
     "end_time": "2024-01-26T17:04:37.473553",
     "exception": false,
     "start_time": "2024-01-26T17:04:36.777618",
     "status": "completed"
    },
    "tags": []
   },
   "outputs": [
    {
     "data": {
      "text/plain": [
       "(0.0, 66902.85800000001)"
      ]
     },
     "execution_count": 7,
     "metadata": {},
     "output_type": "execute_result"
    },
    {
     "data": {
      "image/png": "[encoded data removed]",
      "text/plain": [
       "<Figure size 640x480 with 1 Axes>"
      ]
     },
     "metadata": {},
     "output_type": "display_data"
    }
   ],
   "source": [
    "#implement the regression plot for charges with respect to bmi\n",
    "sns.regplot(x=\"bmi\", y=\"charges\", data=df, line_kws={\"color\":\"red\"})\n",
    "plt.ylim(0,)"
   ]
  },
  {
   "cell_type": "code",
   "execution_count": 8,
   "id": "74b5c590",
   "metadata": {
    "execution": {
     "iopub.execute_input": "2024-01-26T17:04:37.492769Z",
     "iopub.status.busy": "2024-01-26T17:04:37.492361Z",
     "iopub.status.idle": "2024-01-26T17:04:37.757159Z",
     "shell.execute_reply": "2024-01-26T17:04:37.756301Z"
    },
    "papermill": {
     "duration": 0.277395,
     "end_time": "2024-01-26T17:04:37.759609",
     "exception": false,
     "start_time": "2024-01-26T17:04:37.482214",
     "status": "completed"
    },
    "tags": []
   },
   "outputs": [
    {
     "data": {
      "text/plain": [
       "<Axes: xlabel='smoker', ylabel='charges'>"
      ]
     },
     "execution_count": 8,
     "metadata": {},
     "output_type": "execute_result"
    },
    {
     "data": {
      "image/png": "[encoded data removed]",
      "text/plain": [
       "<Figure size 640x480 with 1 Axes>"
      ]
     },
     "metadata": {},
     "output_type": "display_data"
    }
   ],
   "source": [
    "#implement the box plot for charges with respect to smoker\n",
    "sns.boxplot(x=\"smoker\", y=\"charges\", data=df)"
   ]
  },
  {
   "cell_type": "markdown",
   "id": "b1eb5ddf",
   "metadata": {
    "execution": {
     "iopub.execute_input": "2024-01-26T14:46:56.560593Z",
     "iopub.status.busy": "2024-01-26T14:46:56.560181Z",
     "iopub.status.idle": "2024-01-26T14:46:56.634077Z",
     "shell.execute_reply": "2024-01-26T14:46:56.632785Z",
     "shell.execute_reply.started": "2024-01-26T14:46:56.560559Z"
    },
    "papermill": {
     "duration": 0.008833,
     "end_time": "2024-01-26T17:04:37.777909",
     "exception": false,
     "start_time": "2024-01-26T17:04:37.769076",
     "status": "completed"
    },
    "tags": []
   },
   "source": [
    "# **Model Development**"
   ]
  },
  {
   "cell_type": "code",
   "execution_count": 9,
   "id": "554baf6a",
   "metadata": {
    "execution": {
     "iopub.execute_input": "2024-01-26T17:04:37.799523Z",
     "iopub.status.busy": "2024-01-26T17:04:37.798341Z",
     "iopub.status.idle": "2024-01-26T17:04:37.838372Z",
     "shell.execute_reply": "2024-01-26T17:04:37.837198Z"
    },
    "papermill": {
     "duration": 0.053856,
     "end_time": "2024-01-26T17:04:37.841078",
     "exception": false,
     "start_time": "2024-01-26T17:04:37.787222",
     "status": "completed"
    },
    "tags": []
   },
   "outputs": [
    {
     "name": "stdout",
     "output_type": "stream",
     "text": [
      "0.6215176724160532\n"
     ]
    }
   ],
   "source": [
    "#fit a linear regression model that may be used to predict the charges value\n",
    "# just by using the smoker attribute of the dataset.\n",
    "#print the R^2 score of this model\n",
    "\n",
    "X =df[['smoker']]\n",
    "Y = df['charges']\n",
    "\n",
    "# Create a transformer for one-hot encoding the 'smoker' column\n",
    "preprocessor = ColumnTransformer(\n",
    "    transformers=[('smoker', OneHotEncoder(), ['smoker'])],\n",
    "    remainder='passthrough'\n",
    ")\n",
    "\n",
    "# Create a pipeline with the transformer and the linear regression model\n",
    "model = Pipeline(steps=[('preprocessor', preprocessor),\n",
    "                        ('regressor', LinearRegression())])\n",
    "\n",
    "model.fit(X,Y)\n",
    "print(model.score(X,Y))"
   ]
  },
  {
   "cell_type": "code",
   "execution_count": 10,
   "id": "81c7e014",
   "metadata": {
    "execution": {
     "iopub.execute_input": "2024-01-26T17:04:37.861691Z",
     "iopub.status.busy": "2024-01-26T17:04:37.861222Z",
     "iopub.status.idle": "2024-01-26T17:04:37.890196Z",
     "shell.execute_reply": "2024-01-26T17:04:37.888749Z"
    },
    "papermill": {
     "duration": 0.062961,
     "end_time": "2024-01-26T17:04:37.913492",
     "exception": false,
     "start_time": "2024-01-26T17:04:37.850531",
     "status": "completed"
    },
    "tags": []
   },
   "outputs": [
    {
     "name": "stdout",
     "output_type": "stream",
     "text": [
      "0.7509331529861025\n"
     ]
    }
   ],
   "source": [
    "#fit a linear regression model that may be used to predict the charges value,\n",
    "#just by using all other attributes of the dataset.\n",
    "#print the R^2 score of this model\n",
    "\n",
    "#create a new dataframe with one-hot encoded categorical variables\n",
    "Z = pd.get_dummies(df[[\"age\",\"sex\",\"bmi\",\"children\",\"smoker\",\"region\"]])\n",
    "\n",
    "#initialize the linear regression model\n",
    "lm =LinearRegression()\n",
    "\n",
    "lm.fit(Z,Y)\n",
    "print(lm.score(Z,Y))"
   ]
  },
  {
   "cell_type": "code",
   "execution_count": 11,
   "id": "80ba1a4f",
   "metadata": {
    "execution": {
     "iopub.execute_input": "2024-01-26T17:04:38.001947Z",
     "iopub.status.busy": "2024-01-26T17:04:38.000132Z",
     "iopub.status.idle": "2024-01-26T17:04:38.053457Z",
     "shell.execute_reply": "2024-01-26T17:04:38.051939Z"
    },
    "papermill": {
     "duration": 0.097516,
     "end_time": "2024-01-26T17:04:38.057624",
     "exception": false,
     "start_time": "2024-01-26T17:04:37.960108",
     "status": "completed"
    },
    "tags": []
   },
   "outputs": [
    {
     "name": "stdout",
     "output_type": "stream",
     "text": [
      "0.8473189075405922\n"
     ]
    }
   ],
   "source": [
    "#create a training pipeline that uses StandardScaler(), PolynomialFeatures() and LinearRegression()\n",
    "#to create a model that can predict the charges value using all the other attributes of the dataset.\n",
    "\n",
    "# Y and Z use the same values as defined in previous cells\n",
    "Input =[('scale',StandardScaler()),('polynomial',\n",
    "                                   PolynomialFeatures(include_bias=False)),('model',\n",
    "                                                                          LinearRegression())]\n",
    "pipe = Pipeline(Input)\n",
    "Z = Z.astype(float)\n",
    "pipe.fit(Z,Y)\n",
    "ypipe =pipe.predict(Z)\n",
    "\n",
    "#print  R^2 score\n",
    "print(r2_score(Y,ypipe))"
   ]
  },
  {
   "cell_type": "markdown",
   "id": "3cfd78ca",
   "metadata": {
    "papermill": {
     "duration": 0.047264,
     "end_time": "2024-01-26T17:04:38.157006",
     "exception": false,
     "start_time": "2024-01-26T17:04:38.109742",
     "status": "completed"
    },
    "tags": []
   },
   "source": [
    "# **Model Refinement**"
   ]
  },
  {
   "cell_type": "code",
   "execution_count": 12,
   "id": "24761736",
   "metadata": {
    "execution": {
     "iopub.execute_input": "2024-01-26T17:04:38.185040Z",
     "iopub.status.busy": "2024-01-26T17:04:38.184581Z",
     "iopub.status.idle": "2024-01-26T17:04:38.192250Z",
     "shell.execute_reply": "2024-01-26T17:04:38.191441Z"
    },
    "papermill": {
     "duration": 0.021351,
     "end_time": "2024-01-26T17:04:38.194890",
     "exception": false,
     "start_time": "2024-01-26T17:04:38.173539",
     "status": "completed"
    },
    "tags": []
   },
   "outputs": [],
   "source": [
    "#split the data into training and testing subsets, assuming that 20% of the data will be reserved for testing\n",
    "x_train,x_test,y_train,y_test = train_test_split(Z,Y,\n",
    "                                                test_size=0.2,random_state=1)"
   ]
  },
  {
   "cell_type": "code",
   "execution_count": 13,
   "id": "1bdfb345",
   "metadata": {
    "execution": {
     "iopub.execute_input": "2024-01-26T17:04:38.216547Z",
     "iopub.status.busy": "2024-01-26T17:04:38.215744Z",
     "iopub.status.idle": "2024-01-26T17:04:38.238084Z",
     "shell.execute_reply": "2024-01-26T17:04:38.236996Z"
    },
    "papermill": {
     "duration": 0.037244,
     "end_time": "2024-01-26T17:04:38.241935",
     "exception": false,
     "start_time": "2024-01-26T17:04:38.204691",
     "status": "completed"
    },
    "tags": []
   },
   "outputs": [
    {
     "name": "stdout",
     "output_type": "stream",
     "text": [
      "0.6777313380691281\n"
     ]
    }
   ],
   "source": [
    "#initalize a RIdge regressor that used hyperparameter alpha=0.1\n",
    "#fit the model using training data subset\n",
    "RidgeModel=Ridge(alpha=0.1)\n",
    "RidgeModel.fit(x_train, y_train)\n",
    "yhat = RidgeModel.predict(x_test)\n",
    "print(r2_score(y_test,yhat))"
   ]
  },
  {
   "cell_type": "code",
   "execution_count": 14,
   "id": "18090668",
   "metadata": {
    "execution": {
     "iopub.execute_input": "2024-01-26T17:04:38.285423Z",
     "iopub.status.busy": "2024-01-26T17:04:38.284739Z",
     "iopub.status.idle": "2024-01-26T17:04:38.336734Z",
     "shell.execute_reply": "2024-01-26T17:04:38.335032Z"
    },
    "papermill": {
     "duration": 0.077682,
     "end_time": "2024-01-26T17:04:38.340621",
     "exception": false,
     "start_time": "2024-01-26T17:04:38.262939",
     "status": "completed"
    },
    "tags": []
   },
   "outputs": [
    {
     "name": "stdout",
     "output_type": "stream",
     "text": [
      "0.7873619527201839\n"
     ]
    }
   ],
   "source": [
    "#apply polynomial transformation to the training parameters with degree = 2\n",
    "#use this transformed feature set to fit the same regression model as above using the training subset\n",
    "pr = PolynomialFeatures(degree=2)\n",
    "x_train_pr = pr.fit_transform(x_train)\n",
    "x_test_pr = pr.fit_transform(x_test)\n",
    "RidgeModel.fit(x_train_pr, y_train)\n",
    "y_hat = RidgeModel.predict(x_test_pr)\n",
    "print(r2_score(y_test,y_hat))"
   ]
  }
 ],
 "metadata": {
  "kaggle": {
   "accelerator": "none",
   "dataSources": [
    {
     "datasetId": 3435279,
     "sourceId": 5995753,
     "sourceType": "datasetVersion"
    }
   ],
   "dockerImageVersionId": 30635,
   "isGpuEnabled": false,
   "isInternetEnabled": true,
   "language": "python",
   "sourceType": "notebook"
  },
  "kernelspec": {
   "display_name": "Python 3",
   "language": "python",
   "name": "python3"
  },
  "language_info": {
   "codemirror_mode": {
    "name": "ipython",
    "version": 3
   },
   "file_extension": ".py",
   "mimetype": "text/x-python",
   "name": "python",
   "nbconvert_exporter": "python",
   "pygments_lexer": "ipython3",
   "version": "3.10.12"
  },
  "papermill": {
   "default_parameters": {},
   "duration": 8.476149,
   "end_time": "2024-01-26T17:04:39.112292",
   "environment_variables": {},
   "exception": null,
   "input_path": "__notebook__.ipynb",
   "output_path": "__notebook__.ipynb",
   "parameters": {},
   "start_time": "2024-01-26T17:04:30.636143",
   "version": "2.4.0"
  }
 },
 "nbformat": 4,
 "nbformat_minor": 5
}
